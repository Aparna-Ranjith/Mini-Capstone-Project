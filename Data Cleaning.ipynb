{
 "cells": [
  {
   "cell_type": "markdown",
   "metadata": {
    "colab_type": "text",
    "id": "FvmAhBSm10gr"
   },
   "source": [
    "# Define ( inconsistencies and existing issues)"
   ]
  },
  {
   "cell_type": "markdown",
   "metadata": {
    "colab_type": "text",
    "id": "2ufawXyGPyTy"
   },
   "source": [
    " \n",
    "* Check patient id and remove duplicate rows\n",
    "\n",
    "* Patient age quantile (0-19)\n",
    "\n",
    "* Sars-Cov-2 exam result has values positive and negative. Need to replace 0 for negative and 1 for positive\n",
    "\n",
    "* Pateint admiited to regular ward ( name needs to be modified)\n",
    "\n",
    "* Pateint admiited to semi-icu ( modify name)\n",
    "\n",
    "* hematocrit - make blanks as nulls \n",
    "\n",
    "* mean platelet volume (modify name)\n",
    "\n",
    "* Mean corpuscular hemoglobin concentraion (modify name)\n",
    "\n",
    "* Mean corpuscular volume (modify name)\n",
    "\n",
    "* Red blood cell distribution width (RDW) (modify name)\n",
    "\n",
    "* Encode detected as 1 and not detected as 0 \n",
    "Respiratory Syncytial Virus, Influenza A, Influenza B, Parainfluenza 1, CoronavirusNL63, Rhinovirus/Enterovirus, Coronavirus HKU1, Parainfluenza 3, Chlaymidophila pnuemoniae, adenovirus, parainfluenza 4, Coronavirus229E, CoronavirusOC43, Inf A H1N1 2009, Bordetella pertusis, Metapnuemovirus, Parainfluenza 2, \n",
    "\n",
    "* Remove columns - Mycoplasma pnuemoniae, Fio2, Myeloblasts, Urine_Esterase ( absent/not_done), Urine - Bile pigments, Urine Ketone, Urine Nitrite, Urine Protein, Urine Sugar, Urine - Hyaline Cylinders, Urine Granular cylinders, Urine - Yeasts, PTT, PT Activity, D-Dimer, \n",
    "\n",
    "* Change name - Proteina C reactiva to C-reactive protein or CRP\n",
    "\n",
    "* Influenza B Rapid test, Inf A rapud test ( name change) encode positive as 1, negative as 0  \n",
    "\n",
    "* Merge with InfA and B columns\n",
    "\n",
    "* Strepto A ( not_done to be changed to null values)\n",
    "\n",
    "* pC02 vs pO2 venous blood gas analysis, check to see if its redundant\n",
    "\n",
    "* Urine ph - replace nao realizado as null\n",
    "\n",
    "* Urine hemoglobin - not_done to be replaced as null \n",
    "\n",
    "* Urine - Urobilinogen (normal, not_done) - check if can be removed\n",
    "\n",
    "* Urine Crystals -- > Categorical variables\n",
    " \n",
    "\n",
    "\n",
    "\n",
    "\n",
    "\n",
    "\n",
    "\n"
   ]
  },
  {
   "cell_type": "markdown",
   "metadata": {
    "colab_type": "text",
    "id": "nLsH1rrn1nRL"
   },
   "source": [
    "# Code"
   ]
  },
  {
   "cell_type": "code",
   "execution_count": 1,
   "metadata": {
    "colab": {},
    "colab_type": "code",
    "id": "exOZYnq8O8Ab"
   },
   "outputs": [],
   "source": [
    "# importing necessary libraries\n",
    "\n",
    "import pandas as pd\n",
    "import numpy as np\n",
    "import matplotlib.pyplot as plt\n",
    "import seaborn as sns\n",
    "\n",
    "%matplotlib inline\n",
    "from IPython.core.interactiveshell import InteractiveShell\n",
    "InteractiveShell.ast_node_interactivity = \"all\"\n"
   ]
  },
  {
   "cell_type": "code",
   "execution_count": 2,
   "metadata": {
    "colab": {
     "base_uri": "https://localhost:8080/",
     "height": 35
    },
    "colab_type": "code",
    "id": "p904Hjau2WXN",
    "outputId": "d2c3d800-76b8-431a-cadf-adc21ac4a996"
   },
   "outputs": [],
   "source": [
    "#from google.colab import drive\n",
    "#drive.mount('/content/drive')"
   ]
  },
  {
   "cell_type": "code",
   "execution_count": 3,
   "metadata": {
    "colab": {},
    "colab_type": "code",
    "id": "B-hAt-I4lkYX"
   },
   "outputs": [],
   "source": [
    "#df = pd.read_excel('/content/drive/My Drive/Minicapstone/dataset.xlsx')\n",
    "df=pd.read_excel('dataset.xlsx')"
   ]
  },
  {
   "cell_type": "code",
   "execution_count": 4,
   "metadata": {
    "colab": {
     "base_uri": "https://localhost:8080/",
     "height": 355
    },
    "colab_type": "code",
    "id": "lYXGkoeK1vpn",
    "outputId": "473f2ad1-0cae-421a-8ae0-d8a8e4f12087"
   },
   "outputs": [
    {
     "data": {
      "text/html": [
       "<div>\n",
       "<style scoped>\n",
       "    .dataframe tbody tr th:only-of-type {\n",
       "        vertical-align: middle;\n",
       "    }\n",
       "\n",
       "    .dataframe tbody tr th {\n",
       "        vertical-align: top;\n",
       "    }\n",
       "\n",
       "    .dataframe thead th {\n",
       "        text-align: right;\n",
       "    }\n",
       "</style>\n",
       "<table border=\"1\" class=\"dataframe\">\n",
       "  <thead>\n",
       "    <tr style=\"text-align: right;\">\n",
       "      <th></th>\n",
       "      <th>Patient ID</th>\n",
       "      <th>Patient age quantile</th>\n",
       "      <th>SARS-Cov-2 exam result</th>\n",
       "      <th>Patient addmited to regular ward (1=yes, 0=no)</th>\n",
       "      <th>Patient addmited to semi-intensive unit (1=yes, 0=no)</th>\n",
       "      <th>Patient addmited to intensive care unit (1=yes, 0=no)</th>\n",
       "      <th>Hematocrit</th>\n",
       "      <th>Hemoglobin</th>\n",
       "      <th>Platelets</th>\n",
       "      <th>Mean platelet volume</th>\n",
       "      <th>...</th>\n",
       "      <th>Hb saturation (arterial blood gases)</th>\n",
       "      <th>pCO2 (arterial blood gas analysis)</th>\n",
       "      <th>Base excess (arterial blood gas analysis)</th>\n",
       "      <th>pH (arterial blood gas analysis)</th>\n",
       "      <th>Total CO2 (arterial blood gas analysis)</th>\n",
       "      <th>HCO3 (arterial blood gas analysis)</th>\n",
       "      <th>pO2 (arterial blood gas analysis)</th>\n",
       "      <th>Arteiral Fio2</th>\n",
       "      <th>Phosphor</th>\n",
       "      <th>ctO2 (arterial blood gas analysis)</th>\n",
       "    </tr>\n",
       "  </thead>\n",
       "  <tbody>\n",
       "    <tr>\n",
       "      <th>0</th>\n",
       "      <td>44477f75e8169d2</td>\n",
       "      <td>13</td>\n",
       "      <td>negative</td>\n",
       "      <td>0</td>\n",
       "      <td>0</td>\n",
       "      <td>0</td>\n",
       "      <td>NaN</td>\n",
       "      <td>NaN</td>\n",
       "      <td>NaN</td>\n",
       "      <td>NaN</td>\n",
       "      <td>...</td>\n",
       "      <td>NaN</td>\n",
       "      <td>NaN</td>\n",
       "      <td>NaN</td>\n",
       "      <td>NaN</td>\n",
       "      <td>NaN</td>\n",
       "      <td>NaN</td>\n",
       "      <td>NaN</td>\n",
       "      <td>NaN</td>\n",
       "      <td>NaN</td>\n",
       "      <td>NaN</td>\n",
       "    </tr>\n",
       "    <tr>\n",
       "      <th>1</th>\n",
       "      <td>126e9dd13932f68</td>\n",
       "      <td>17</td>\n",
       "      <td>negative</td>\n",
       "      <td>0</td>\n",
       "      <td>0</td>\n",
       "      <td>0</td>\n",
       "      <td>0.236515</td>\n",
       "      <td>-0.02234</td>\n",
       "      <td>-0.517413</td>\n",
       "      <td>0.010677</td>\n",
       "      <td>...</td>\n",
       "      <td>NaN</td>\n",
       "      <td>NaN</td>\n",
       "      <td>NaN</td>\n",
       "      <td>NaN</td>\n",
       "      <td>NaN</td>\n",
       "      <td>NaN</td>\n",
       "      <td>NaN</td>\n",
       "      <td>NaN</td>\n",
       "      <td>NaN</td>\n",
       "      <td>NaN</td>\n",
       "    </tr>\n",
       "    <tr>\n",
       "      <th>2</th>\n",
       "      <td>a46b4402a0e5696</td>\n",
       "      <td>8</td>\n",
       "      <td>negative</td>\n",
       "      <td>0</td>\n",
       "      <td>0</td>\n",
       "      <td>0</td>\n",
       "      <td>NaN</td>\n",
       "      <td>NaN</td>\n",
       "      <td>NaN</td>\n",
       "      <td>NaN</td>\n",
       "      <td>...</td>\n",
       "      <td>NaN</td>\n",
       "      <td>NaN</td>\n",
       "      <td>NaN</td>\n",
       "      <td>NaN</td>\n",
       "      <td>NaN</td>\n",
       "      <td>NaN</td>\n",
       "      <td>NaN</td>\n",
       "      <td>NaN</td>\n",
       "      <td>NaN</td>\n",
       "      <td>NaN</td>\n",
       "    </tr>\n",
       "    <tr>\n",
       "      <th>3</th>\n",
       "      <td>f7d619a94f97c45</td>\n",
       "      <td>5</td>\n",
       "      <td>negative</td>\n",
       "      <td>0</td>\n",
       "      <td>0</td>\n",
       "      <td>0</td>\n",
       "      <td>NaN</td>\n",
       "      <td>NaN</td>\n",
       "      <td>NaN</td>\n",
       "      <td>NaN</td>\n",
       "      <td>...</td>\n",
       "      <td>NaN</td>\n",
       "      <td>NaN</td>\n",
       "      <td>NaN</td>\n",
       "      <td>NaN</td>\n",
       "      <td>NaN</td>\n",
       "      <td>NaN</td>\n",
       "      <td>NaN</td>\n",
       "      <td>NaN</td>\n",
       "      <td>NaN</td>\n",
       "      <td>NaN</td>\n",
       "    </tr>\n",
       "    <tr>\n",
       "      <th>4</th>\n",
       "      <td>d9e41465789c2b5</td>\n",
       "      <td>15</td>\n",
       "      <td>negative</td>\n",
       "      <td>0</td>\n",
       "      <td>0</td>\n",
       "      <td>0</td>\n",
       "      <td>NaN</td>\n",
       "      <td>NaN</td>\n",
       "      <td>NaN</td>\n",
       "      <td>NaN</td>\n",
       "      <td>...</td>\n",
       "      <td>NaN</td>\n",
       "      <td>NaN</td>\n",
       "      <td>NaN</td>\n",
       "      <td>NaN</td>\n",
       "      <td>NaN</td>\n",
       "      <td>NaN</td>\n",
       "      <td>NaN</td>\n",
       "      <td>NaN</td>\n",
       "      <td>NaN</td>\n",
       "      <td>NaN</td>\n",
       "    </tr>\n",
       "  </tbody>\n",
       "</table>\n",
       "<p>5 rows × 111 columns</p>\n",
       "</div>"
      ],
      "text/plain": [
       "        Patient ID  Patient age quantile SARS-Cov-2 exam result  \\\n",
       "0  44477f75e8169d2                    13               negative   \n",
       "1  126e9dd13932f68                    17               negative   \n",
       "2  a46b4402a0e5696                     8               negative   \n",
       "3  f7d619a94f97c45                     5               negative   \n",
       "4  d9e41465789c2b5                    15               negative   \n",
       "\n",
       "   Patient addmited to regular ward (1=yes, 0=no)  \\\n",
       "0                                               0   \n",
       "1                                               0   \n",
       "2                                               0   \n",
       "3                                               0   \n",
       "4                                               0   \n",
       "\n",
       "   Patient addmited to semi-intensive unit (1=yes, 0=no)  \\\n",
       "0                                                  0       \n",
       "1                                                  0       \n",
       "2                                                  0       \n",
       "3                                                  0       \n",
       "4                                                  0       \n",
       "\n",
       "   Patient addmited to intensive care unit (1=yes, 0=no)  Hematocrit  \\\n",
       "0                                                  0             NaN   \n",
       "1                                                  0        0.236515   \n",
       "2                                                  0             NaN   \n",
       "3                                                  0             NaN   \n",
       "4                                                  0             NaN   \n",
       "\n",
       "   Hemoglobin  Platelets  Mean platelet volume   ...  \\\n",
       "0         NaN        NaN                    NaN  ...   \n",
       "1    -0.02234  -0.517413               0.010677  ...   \n",
       "2         NaN        NaN                    NaN  ...   \n",
       "3         NaN        NaN                    NaN  ...   \n",
       "4         NaN        NaN                    NaN  ...   \n",
       "\n",
       "   Hb saturation (arterial blood gases)  pCO2 (arterial blood gas analysis)  \\\n",
       "0                                   NaN                                 NaN   \n",
       "1                                   NaN                                 NaN   \n",
       "2                                   NaN                                 NaN   \n",
       "3                                   NaN                                 NaN   \n",
       "4                                   NaN                                 NaN   \n",
       "\n",
       "   Base excess (arterial blood gas analysis)  \\\n",
       "0                                        NaN   \n",
       "1                                        NaN   \n",
       "2                                        NaN   \n",
       "3                                        NaN   \n",
       "4                                        NaN   \n",
       "\n",
       "   pH (arterial blood gas analysis)  Total CO2 (arterial blood gas analysis)  \\\n",
       "0                               NaN                                      NaN   \n",
       "1                               NaN                                      NaN   \n",
       "2                               NaN                                      NaN   \n",
       "3                               NaN                                      NaN   \n",
       "4                               NaN                                      NaN   \n",
       "\n",
       "   HCO3 (arterial blood gas analysis)  pO2 (arterial blood gas analysis)  \\\n",
       "0                                 NaN                                NaN   \n",
       "1                                 NaN                                NaN   \n",
       "2                                 NaN                                NaN   \n",
       "3                                 NaN                                NaN   \n",
       "4                                 NaN                                NaN   \n",
       "\n",
       "   Arteiral Fio2  Phosphor  ctO2 (arterial blood gas analysis)  \n",
       "0            NaN       NaN                                 NaN  \n",
       "1            NaN       NaN                                 NaN  \n",
       "2            NaN       NaN                                 NaN  \n",
       "3            NaN       NaN                                 NaN  \n",
       "4            NaN       NaN                                 NaN  \n",
       "\n",
       "[5 rows x 111 columns]"
      ]
     },
     "execution_count": 4,
     "metadata": {},
     "output_type": "execute_result"
    }
   ],
   "source": [
    "df.head()"
   ]
  },
  {
   "cell_type": "code",
   "execution_count": 5,
   "metadata": {
    "colab": {
     "base_uri": "https://localhost:8080/",
     "height": 35
    },
    "colab_type": "code",
    "id": "8ZlIKxNbenvu",
    "outputId": "6233f28f-8455-461c-97d9-999470604ab7"
   },
   "outputs": [
    {
     "data": {
      "text/plain": [
       "(5644, 111)"
      ]
     },
     "execution_count": 5,
     "metadata": {},
     "output_type": "execute_result"
    }
   ],
   "source": [
    "df.shape\n",
    "#df.describe()"
   ]
  },
  {
   "cell_type": "code",
   "execution_count": 6,
   "metadata": {
    "colab": {},
    "colab_type": "code",
    "id": "Bs87zjChfa-Q"
   },
   "outputs": [],
   "source": [
    "# Renaming some of the columns for easier access\n",
    "\n",
    "df.rename(columns = {'Patient addmited to regular ward (1=yes, 0=no)' : 'regular_ward',\n",
    "                     'Patient addmited to semi-intensive unit (1=yes, 0=no)' : 'semi_icu',\n",
    "                     'Patient addmited to intensive care unit (1=yes, 0=no)' : 'icu',\n",
    "                     'SARS-Cov-2 exam result' : 'sars_cov2',\n",
    "                     'Mean corpuscular hemoglobin concentration (MCHC)' : 'MCHC',\n",
    "                     'Mean corpuscular hemoglobin (MCH)' : 'MCH',\n",
    "                     'Mean corpuscular volume (MCV)' : 'MCV',\n",
    "                     'Red blood cell distribution width (RDW)' : 'RBC_DW',\n",
    "                     'Proteina C reativa mg/dL' : 'CRP'      # C-Reactive Protein\n",
    "                     }, inplace=True)"
   ]
  },
  {
   "cell_type": "code",
   "execution_count": 7,
   "metadata": {
    "colab": {
     "base_uri": "https://localhost:8080/",
     "height": 321
    },
    "colab_type": "code",
    "id": "WDfoveN8fay_",
    "outputId": "5fdebc6f-2ffb-4b9b-dc49-8aac5bcc40c2"
   },
   "outputs": [
    {
     "data": {
      "text/html": [
       "<div>\n",
       "<style scoped>\n",
       "    .dataframe tbody tr th:only-of-type {\n",
       "        vertical-align: middle;\n",
       "    }\n",
       "\n",
       "    .dataframe tbody tr th {\n",
       "        vertical-align: top;\n",
       "    }\n",
       "\n",
       "    .dataframe thead th {\n",
       "        text-align: right;\n",
       "    }\n",
       "</style>\n",
       "<table border=\"1\" class=\"dataframe\">\n",
       "  <thead>\n",
       "    <tr style=\"text-align: right;\">\n",
       "      <th></th>\n",
       "      <th>Patient ID</th>\n",
       "      <th>Patient age quantile</th>\n",
       "      <th>sars_cov2</th>\n",
       "      <th>regular_ward</th>\n",
       "      <th>semi_icu</th>\n",
       "      <th>icu</th>\n",
       "      <th>Hematocrit</th>\n",
       "      <th>Hemoglobin</th>\n",
       "      <th>Platelets</th>\n",
       "      <th>Mean platelet volume</th>\n",
       "      <th>...</th>\n",
       "      <th>Hb saturation (arterial blood gases)</th>\n",
       "      <th>pCO2 (arterial blood gas analysis)</th>\n",
       "      <th>Base excess (arterial blood gas analysis)</th>\n",
       "      <th>pH (arterial blood gas analysis)</th>\n",
       "      <th>Total CO2 (arterial blood gas analysis)</th>\n",
       "      <th>HCO3 (arterial blood gas analysis)</th>\n",
       "      <th>pO2 (arterial blood gas analysis)</th>\n",
       "      <th>Arteiral Fio2</th>\n",
       "      <th>Phosphor</th>\n",
       "      <th>ctO2 (arterial blood gas analysis)</th>\n",
       "    </tr>\n",
       "  </thead>\n",
       "  <tbody>\n",
       "    <tr>\n",
       "      <th>0</th>\n",
       "      <td>44477f75e8169d2</td>\n",
       "      <td>13</td>\n",
       "      <td>negative</td>\n",
       "      <td>0</td>\n",
       "      <td>0</td>\n",
       "      <td>0</td>\n",
       "      <td>NaN</td>\n",
       "      <td>NaN</td>\n",
       "      <td>NaN</td>\n",
       "      <td>NaN</td>\n",
       "      <td>...</td>\n",
       "      <td>NaN</td>\n",
       "      <td>NaN</td>\n",
       "      <td>NaN</td>\n",
       "      <td>NaN</td>\n",
       "      <td>NaN</td>\n",
       "      <td>NaN</td>\n",
       "      <td>NaN</td>\n",
       "      <td>NaN</td>\n",
       "      <td>NaN</td>\n",
       "      <td>NaN</td>\n",
       "    </tr>\n",
       "    <tr>\n",
       "      <th>1</th>\n",
       "      <td>126e9dd13932f68</td>\n",
       "      <td>17</td>\n",
       "      <td>negative</td>\n",
       "      <td>0</td>\n",
       "      <td>0</td>\n",
       "      <td>0</td>\n",
       "      <td>0.236515</td>\n",
       "      <td>-0.02234</td>\n",
       "      <td>-0.517413</td>\n",
       "      <td>0.010677</td>\n",
       "      <td>...</td>\n",
       "      <td>NaN</td>\n",
       "      <td>NaN</td>\n",
       "      <td>NaN</td>\n",
       "      <td>NaN</td>\n",
       "      <td>NaN</td>\n",
       "      <td>NaN</td>\n",
       "      <td>NaN</td>\n",
       "      <td>NaN</td>\n",
       "      <td>NaN</td>\n",
       "      <td>NaN</td>\n",
       "    </tr>\n",
       "    <tr>\n",
       "      <th>2</th>\n",
       "      <td>a46b4402a0e5696</td>\n",
       "      <td>8</td>\n",
       "      <td>negative</td>\n",
       "      <td>0</td>\n",
       "      <td>0</td>\n",
       "      <td>0</td>\n",
       "      <td>NaN</td>\n",
       "      <td>NaN</td>\n",
       "      <td>NaN</td>\n",
       "      <td>NaN</td>\n",
       "      <td>...</td>\n",
       "      <td>NaN</td>\n",
       "      <td>NaN</td>\n",
       "      <td>NaN</td>\n",
       "      <td>NaN</td>\n",
       "      <td>NaN</td>\n",
       "      <td>NaN</td>\n",
       "      <td>NaN</td>\n",
       "      <td>NaN</td>\n",
       "      <td>NaN</td>\n",
       "      <td>NaN</td>\n",
       "    </tr>\n",
       "    <tr>\n",
       "      <th>3</th>\n",
       "      <td>f7d619a94f97c45</td>\n",
       "      <td>5</td>\n",
       "      <td>negative</td>\n",
       "      <td>0</td>\n",
       "      <td>0</td>\n",
       "      <td>0</td>\n",
       "      <td>NaN</td>\n",
       "      <td>NaN</td>\n",
       "      <td>NaN</td>\n",
       "      <td>NaN</td>\n",
       "      <td>...</td>\n",
       "      <td>NaN</td>\n",
       "      <td>NaN</td>\n",
       "      <td>NaN</td>\n",
       "      <td>NaN</td>\n",
       "      <td>NaN</td>\n",
       "      <td>NaN</td>\n",
       "      <td>NaN</td>\n",
       "      <td>NaN</td>\n",
       "      <td>NaN</td>\n",
       "      <td>NaN</td>\n",
       "    </tr>\n",
       "    <tr>\n",
       "      <th>4</th>\n",
       "      <td>d9e41465789c2b5</td>\n",
       "      <td>15</td>\n",
       "      <td>negative</td>\n",
       "      <td>0</td>\n",
       "      <td>0</td>\n",
       "      <td>0</td>\n",
       "      <td>NaN</td>\n",
       "      <td>NaN</td>\n",
       "      <td>NaN</td>\n",
       "      <td>NaN</td>\n",
       "      <td>...</td>\n",
       "      <td>NaN</td>\n",
       "      <td>NaN</td>\n",
       "      <td>NaN</td>\n",
       "      <td>NaN</td>\n",
       "      <td>NaN</td>\n",
       "      <td>NaN</td>\n",
       "      <td>NaN</td>\n",
       "      <td>NaN</td>\n",
       "      <td>NaN</td>\n",
       "      <td>NaN</td>\n",
       "    </tr>\n",
       "  </tbody>\n",
       "</table>\n",
       "<p>5 rows × 111 columns</p>\n",
       "</div>"
      ],
      "text/plain": [
       "        Patient ID  Patient age quantile sars_cov2  regular_ward  semi_icu  \\\n",
       "0  44477f75e8169d2                    13  negative             0         0   \n",
       "1  126e9dd13932f68                    17  negative             0         0   \n",
       "2  a46b4402a0e5696                     8  negative             0         0   \n",
       "3  f7d619a94f97c45                     5  negative             0         0   \n",
       "4  d9e41465789c2b5                    15  negative             0         0   \n",
       "\n",
       "   icu  Hematocrit  Hemoglobin  Platelets  Mean platelet volume   ...  \\\n",
       "0    0         NaN         NaN        NaN                    NaN  ...   \n",
       "1    0    0.236515    -0.02234  -0.517413               0.010677  ...   \n",
       "2    0         NaN         NaN        NaN                    NaN  ...   \n",
       "3    0         NaN         NaN        NaN                    NaN  ...   \n",
       "4    0         NaN         NaN        NaN                    NaN  ...   \n",
       "\n",
       "   Hb saturation (arterial blood gases)  pCO2 (arterial blood gas analysis)  \\\n",
       "0                                   NaN                                 NaN   \n",
       "1                                   NaN                                 NaN   \n",
       "2                                   NaN                                 NaN   \n",
       "3                                   NaN                                 NaN   \n",
       "4                                   NaN                                 NaN   \n",
       "\n",
       "   Base excess (arterial blood gas analysis)  \\\n",
       "0                                        NaN   \n",
       "1                                        NaN   \n",
       "2                                        NaN   \n",
       "3                                        NaN   \n",
       "4                                        NaN   \n",
       "\n",
       "   pH (arterial blood gas analysis)  Total CO2 (arterial blood gas analysis)  \\\n",
       "0                               NaN                                      NaN   \n",
       "1                               NaN                                      NaN   \n",
       "2                               NaN                                      NaN   \n",
       "3                               NaN                                      NaN   \n",
       "4                               NaN                                      NaN   \n",
       "\n",
       "   HCO3 (arterial blood gas analysis)  pO2 (arterial blood gas analysis)  \\\n",
       "0                                 NaN                                NaN   \n",
       "1                                 NaN                                NaN   \n",
       "2                                 NaN                                NaN   \n",
       "3                                 NaN                                NaN   \n",
       "4                                 NaN                                NaN   \n",
       "\n",
       "   Arteiral Fio2  Phosphor  ctO2 (arterial blood gas analysis)  \n",
       "0            NaN       NaN                                 NaN  \n",
       "1            NaN       NaN                                 NaN  \n",
       "2            NaN       NaN                                 NaN  \n",
       "3            NaN       NaN                                 NaN  \n",
       "4            NaN       NaN                                 NaN  \n",
       "\n",
       "[5 rows x 111 columns]"
      ]
     },
     "execution_count": 7,
     "metadata": {},
     "output_type": "execute_result"
    }
   ],
   "source": [
    "df.head()"
   ]
  },
  {
   "cell_type": "code",
   "execution_count": 8,
   "metadata": {
    "colab": {},
    "colab_type": "code",
    "id": "86GKtYuyfap6"
   },
   "outputs": [],
   "source": [
    "# Replacing 'negative' as 0 and 'positive' as 1 and other values across the dataframe\n",
    "\n",
    "df.replace({'negative': 0, 'positive' : 1, \n",
    "            'not_detected': 0, 'detected':1, \n",
    "            'not_done' : np.nan, 'Não Realizado' : np.nan,\n",
    "            'absent' : 0, 'normal' : 0\n",
    "            }, inplace=True)"
   ]
  },
  {
   "cell_type": "code",
   "execution_count": 9,
   "metadata": {
    "colab": {
     "base_uri": "https://localhost:8080/",
     "height": 321
    },
    "colab_type": "code",
    "id": "5ygCP4KqfZY1",
    "outputId": "388f6f9a-d6bc-4da0-a692-c5193487d67a"
   },
   "outputs": [
    {
     "data": {
      "text/html": [
       "<div>\n",
       "<style scoped>\n",
       "    .dataframe tbody tr th:only-of-type {\n",
       "        vertical-align: middle;\n",
       "    }\n",
       "\n",
       "    .dataframe tbody tr th {\n",
       "        vertical-align: top;\n",
       "    }\n",
       "\n",
       "    .dataframe thead th {\n",
       "        text-align: right;\n",
       "    }\n",
       "</style>\n",
       "<table border=\"1\" class=\"dataframe\">\n",
       "  <thead>\n",
       "    <tr style=\"text-align: right;\">\n",
       "      <th></th>\n",
       "      <th>Patient ID</th>\n",
       "      <th>Patient age quantile</th>\n",
       "      <th>sars_cov2</th>\n",
       "      <th>regular_ward</th>\n",
       "      <th>semi_icu</th>\n",
       "      <th>icu</th>\n",
       "      <th>Hematocrit</th>\n",
       "      <th>Hemoglobin</th>\n",
       "      <th>Platelets</th>\n",
       "      <th>Mean platelet volume</th>\n",
       "      <th>...</th>\n",
       "      <th>Hb saturation (arterial blood gases)</th>\n",
       "      <th>pCO2 (arterial blood gas analysis)</th>\n",
       "      <th>Base excess (arterial blood gas analysis)</th>\n",
       "      <th>pH (arterial blood gas analysis)</th>\n",
       "      <th>Total CO2 (arterial blood gas analysis)</th>\n",
       "      <th>HCO3 (arterial blood gas analysis)</th>\n",
       "      <th>pO2 (arterial blood gas analysis)</th>\n",
       "      <th>Arteiral Fio2</th>\n",
       "      <th>Phosphor</th>\n",
       "      <th>ctO2 (arterial blood gas analysis)</th>\n",
       "    </tr>\n",
       "  </thead>\n",
       "  <tbody>\n",
       "    <tr>\n",
       "      <th>0</th>\n",
       "      <td>44477f75e8169d2</td>\n",
       "      <td>13</td>\n",
       "      <td>0</td>\n",
       "      <td>0</td>\n",
       "      <td>0</td>\n",
       "      <td>0</td>\n",
       "      <td>NaN</td>\n",
       "      <td>NaN</td>\n",
       "      <td>NaN</td>\n",
       "      <td>NaN</td>\n",
       "      <td>...</td>\n",
       "      <td>NaN</td>\n",
       "      <td>NaN</td>\n",
       "      <td>NaN</td>\n",
       "      <td>NaN</td>\n",
       "      <td>NaN</td>\n",
       "      <td>NaN</td>\n",
       "      <td>NaN</td>\n",
       "      <td>NaN</td>\n",
       "      <td>NaN</td>\n",
       "      <td>NaN</td>\n",
       "    </tr>\n",
       "    <tr>\n",
       "      <th>1</th>\n",
       "      <td>126e9dd13932f68</td>\n",
       "      <td>17</td>\n",
       "      <td>0</td>\n",
       "      <td>0</td>\n",
       "      <td>0</td>\n",
       "      <td>0</td>\n",
       "      <td>0.236515</td>\n",
       "      <td>-0.02234</td>\n",
       "      <td>-0.517413</td>\n",
       "      <td>0.010677</td>\n",
       "      <td>...</td>\n",
       "      <td>NaN</td>\n",
       "      <td>NaN</td>\n",
       "      <td>NaN</td>\n",
       "      <td>NaN</td>\n",
       "      <td>NaN</td>\n",
       "      <td>NaN</td>\n",
       "      <td>NaN</td>\n",
       "      <td>NaN</td>\n",
       "      <td>NaN</td>\n",
       "      <td>NaN</td>\n",
       "    </tr>\n",
       "    <tr>\n",
       "      <th>2</th>\n",
       "      <td>a46b4402a0e5696</td>\n",
       "      <td>8</td>\n",
       "      <td>0</td>\n",
       "      <td>0</td>\n",
       "      <td>0</td>\n",
       "      <td>0</td>\n",
       "      <td>NaN</td>\n",
       "      <td>NaN</td>\n",
       "      <td>NaN</td>\n",
       "      <td>NaN</td>\n",
       "      <td>...</td>\n",
       "      <td>NaN</td>\n",
       "      <td>NaN</td>\n",
       "      <td>NaN</td>\n",
       "      <td>NaN</td>\n",
       "      <td>NaN</td>\n",
       "      <td>NaN</td>\n",
       "      <td>NaN</td>\n",
       "      <td>NaN</td>\n",
       "      <td>NaN</td>\n",
       "      <td>NaN</td>\n",
       "    </tr>\n",
       "    <tr>\n",
       "      <th>3</th>\n",
       "      <td>f7d619a94f97c45</td>\n",
       "      <td>5</td>\n",
       "      <td>0</td>\n",
       "      <td>0</td>\n",
       "      <td>0</td>\n",
       "      <td>0</td>\n",
       "      <td>NaN</td>\n",
       "      <td>NaN</td>\n",
       "      <td>NaN</td>\n",
       "      <td>NaN</td>\n",
       "      <td>...</td>\n",
       "      <td>NaN</td>\n",
       "      <td>NaN</td>\n",
       "      <td>NaN</td>\n",
       "      <td>NaN</td>\n",
       "      <td>NaN</td>\n",
       "      <td>NaN</td>\n",
       "      <td>NaN</td>\n",
       "      <td>NaN</td>\n",
       "      <td>NaN</td>\n",
       "      <td>NaN</td>\n",
       "    </tr>\n",
       "    <tr>\n",
       "      <th>4</th>\n",
       "      <td>d9e41465789c2b5</td>\n",
       "      <td>15</td>\n",
       "      <td>0</td>\n",
       "      <td>0</td>\n",
       "      <td>0</td>\n",
       "      <td>0</td>\n",
       "      <td>NaN</td>\n",
       "      <td>NaN</td>\n",
       "      <td>NaN</td>\n",
       "      <td>NaN</td>\n",
       "      <td>...</td>\n",
       "      <td>NaN</td>\n",
       "      <td>NaN</td>\n",
       "      <td>NaN</td>\n",
       "      <td>NaN</td>\n",
       "      <td>NaN</td>\n",
       "      <td>NaN</td>\n",
       "      <td>NaN</td>\n",
       "      <td>NaN</td>\n",
       "      <td>NaN</td>\n",
       "      <td>NaN</td>\n",
       "    </tr>\n",
       "  </tbody>\n",
       "</table>\n",
       "<p>5 rows × 111 columns</p>\n",
       "</div>"
      ],
      "text/plain": [
       "        Patient ID  Patient age quantile  sars_cov2  regular_ward  semi_icu  \\\n",
       "0  44477f75e8169d2                    13          0             0         0   \n",
       "1  126e9dd13932f68                    17          0             0         0   \n",
       "2  a46b4402a0e5696                     8          0             0         0   \n",
       "3  f7d619a94f97c45                     5          0             0         0   \n",
       "4  d9e41465789c2b5                    15          0             0         0   \n",
       "\n",
       "   icu  Hematocrit  Hemoglobin  Platelets  Mean platelet volume   ...  \\\n",
       "0    0         NaN         NaN        NaN                    NaN  ...   \n",
       "1    0    0.236515    -0.02234  -0.517413               0.010677  ...   \n",
       "2    0         NaN         NaN        NaN                    NaN  ...   \n",
       "3    0         NaN         NaN        NaN                    NaN  ...   \n",
       "4    0         NaN         NaN        NaN                    NaN  ...   \n",
       "\n",
       "   Hb saturation (arterial blood gases)  pCO2 (arterial blood gas analysis)  \\\n",
       "0                                   NaN                                 NaN   \n",
       "1                                   NaN                                 NaN   \n",
       "2                                   NaN                                 NaN   \n",
       "3                                   NaN                                 NaN   \n",
       "4                                   NaN                                 NaN   \n",
       "\n",
       "   Base excess (arterial blood gas analysis)  \\\n",
       "0                                        NaN   \n",
       "1                                        NaN   \n",
       "2                                        NaN   \n",
       "3                                        NaN   \n",
       "4                                        NaN   \n",
       "\n",
       "   pH (arterial blood gas analysis)  Total CO2 (arterial blood gas analysis)  \\\n",
       "0                               NaN                                      NaN   \n",
       "1                               NaN                                      NaN   \n",
       "2                               NaN                                      NaN   \n",
       "3                               NaN                                      NaN   \n",
       "4                               NaN                                      NaN   \n",
       "\n",
       "   HCO3 (arterial blood gas analysis)  pO2 (arterial blood gas analysis)  \\\n",
       "0                                 NaN                                NaN   \n",
       "1                                 NaN                                NaN   \n",
       "2                                 NaN                                NaN   \n",
       "3                                 NaN                                NaN   \n",
       "4                                 NaN                                NaN   \n",
       "\n",
       "   Arteiral Fio2  Phosphor  ctO2 (arterial blood gas analysis)  \n",
       "0            NaN       NaN                                 NaN  \n",
       "1            NaN       NaN                                 NaN  \n",
       "2            NaN       NaN                                 NaN  \n",
       "3            NaN       NaN                                 NaN  \n",
       "4            NaN       NaN                                 NaN  \n",
       "\n",
       "[5 rows x 111 columns]"
      ]
     },
     "execution_count": 9,
     "metadata": {},
     "output_type": "execute_result"
    }
   ],
   "source": [
    "df.head()"
   ]
  },
  {
   "cell_type": "code",
   "execution_count": 10,
   "metadata": {
    "colab": {
     "base_uri": "https://localhost:8080/",
     "height": 69
    },
    "colab_type": "code",
    "id": "G-LzcyP3G8u-",
    "outputId": "d533ac46-6173-488a-ecae-9b5fcb709a95"
   },
   "outputs": [
    {
     "data": {
      "text/plain": [
       "0    5086\n",
       "1     558\n",
       "Name: sars_cov2, dtype: int64"
      ]
     },
     "execution_count": 10,
     "metadata": {},
     "output_type": "execute_result"
    }
   ],
   "source": [
    "df.sars_cov2.value_counts()"
   ]
  },
  {
   "cell_type": "code",
   "execution_count": 11,
   "metadata": {
    "colab": {},
    "colab_type": "code",
    "id": "69b3zB5vm55w"
   },
   "outputs": [],
   "source": [
    "# Creating a copy before removing columns\n",
    "cov_df = df.copy()"
   ]
  },
  {
   "cell_type": "code",
   "execution_count": 12,
   "metadata": {
    "colab": {},
    "colab_type": "code",
    "id": "9kvqdBYhjGxm"
   },
   "outputs": [],
   "source": [
    "# Removing those columns that had either nulls or 'not_done' or 'absent' as values which do not add much information to our dataset\n",
    "# Mycoplasma pnuemoniae, Fio2, Myeloblasts, Urine_Esterase ( absent/not_done), Urine - Bile pigments, Urine Ketone, Urine Nitrite, \n",
    "# Urine Protein, Urine Sugar, Urine - Hyaline Cylinders, Urine Granular cylinders, Urine - Yeasts, PTT, PT Activity, D-Dimer\n",
    "\n",
    "# Also removing Influenza A, Rapid test and Influenza B Rapid test because we also have Influenza A & B columns\n",
    "\n",
    "cov_df.drop(columns = ['Mycoplasma pneumoniae',\n",
    "                       'Influenza B, rapid test',\n",
    "                       'Influenza A, rapid test',\n",
    "                       'Fio2 (venous blood gas analysis)',\n",
    "                       'Myeloblasts',\n",
    "                       'Urine - Esterase',\n",
    "                       'Urine - Bile pigments',\n",
    "                       'Urine - Ketone Bodies',\n",
    "                       'Urine - Nitrite',\n",
    "                       'Urine - Urobilinogen',\n",
    "                       'Urine - Protein',\n",
    "                       'Urine - Sugar',\n",
    "                       'Urine - Hyaline cylinders',\n",
    "                       'Urine - Yeasts',\n",
    "                       'Prothrombin time (PT), Activity',\n",
    "                       'D-Dimer',\n",
    "                       'Partial thromboplastin time\\xa0(PTT)\\xa0'\n",
    "                        ], axis=1, inplace=True)"
   ]
  },
  {
   "cell_type": "code",
   "execution_count": 13,
   "metadata": {
    "colab": {
     "base_uri": "https://localhost:8080/",
     "height": 35
    },
    "colab_type": "code",
    "id": "zFBLuEgFu72n",
    "outputId": "f7af1096-deab-4665-aa83-9b26c5752688"
   },
   "outputs": [
    {
     "data": {
      "text/plain": [
       "(5644, 94)"
      ]
     },
     "execution_count": 13,
     "metadata": {},
     "output_type": "execute_result"
    }
   ],
   "source": [
    "cov_df.shape"
   ]
  },
  {
   "cell_type": "code",
   "execution_count": 14,
   "metadata": {
    "colab": {
     "base_uri": "https://localhost:8080/",
     "height": 1000
    },
    "colab_type": "code",
    "id": "KeYkRWP_wojn",
    "outputId": "0cea3ae4-625a-43f0-a1ff-88b3fff12779"
   },
   "outputs": [
    {
     "name": "stdout",
     "output_type": "stream",
     "text": [
      "<class 'pandas.core.frame.DataFrame'>\n",
      "RangeIndex: 5644 entries, 0 to 5643\n",
      "Data columns (total 94 columns):\n",
      " #   Column                                            Non-Null Count  Dtype  \n",
      "---  ------                                            --------------  -----  \n",
      " 0   Patient ID                                        5644 non-null   object \n",
      " 1   Patient age quantile                              5644 non-null   int64  \n",
      " 2   sars_cov2                                         5644 non-null   int64  \n",
      " 3   regular_ward                                      5644 non-null   int64  \n",
      " 4   semi_icu                                          5644 non-null   int64  \n",
      " 5   icu                                               5644 non-null   int64  \n",
      " 6   Hematocrit                                        603 non-null    float64\n",
      " 7   Hemoglobin                                        603 non-null    float64\n",
      " 8   Platelets                                         602 non-null    float64\n",
      " 9   Mean platelet volume                              599 non-null    float64\n",
      " 10  Red blood Cells                                   602 non-null    float64\n",
      " 11  Lymphocytes                                       602 non-null    float64\n",
      " 12  Mean corpuscular hemoglobin concentration (MCHC)  602 non-null    float64\n",
      " 13  Leukocytes                                        602 non-null    float64\n",
      " 14  Basophils                                         602 non-null    float64\n",
      " 15  MCH                                               602 non-null    float64\n",
      " 16  Eosinophils                                       602 non-null    float64\n",
      " 17  MCV                                               602 non-null    float64\n",
      " 18  Monocytes                                         601 non-null    float64\n",
      " 19  RBC_DW                                            602 non-null    float64\n",
      " 20  Serum Glucose                                     208 non-null    float64\n",
      " 21  Respiratory Syncytial Virus                       1354 non-null   float64\n",
      " 22  Influenza A                                       1354 non-null   float64\n",
      " 23  Influenza B                                       1354 non-null   float64\n",
      " 24  Parainfluenza 1                                   1352 non-null   float64\n",
      " 25  CoronavirusNL63                                   1352 non-null   float64\n",
      " 26  Rhinovirus/Enterovirus                            1352 non-null   float64\n",
      " 27  Coronavirus HKU1                                  1352 non-null   float64\n",
      " 28  Parainfluenza 3                                   1352 non-null   float64\n",
      " 29  Chlamydophila pneumoniae                          1352 non-null   float64\n",
      " 30  Adenovirus                                        1352 non-null   float64\n",
      " 31  Parainfluenza 4                                   1352 non-null   float64\n",
      " 32  Coronavirus229E                                   1352 non-null   float64\n",
      " 33  CoronavirusOC43                                   1352 non-null   float64\n",
      " 34  Inf A H1N1 2009                                   1352 non-null   float64\n",
      " 35  Bordetella pertussis                              1352 non-null   float64\n",
      " 36  Metapneumovirus                                   1352 non-null   float64\n",
      " 37  Parainfluenza 2                                   1352 non-null   float64\n",
      " 38  Neutrophils                                       513 non-null    float64\n",
      " 39  Urea                                              397 non-null    float64\n",
      " 40  CRP                                               506 non-null    float64\n",
      " 41  Creatinine                                        424 non-null    float64\n",
      " 42  Potassium                                         371 non-null    float64\n",
      " 43  Sodium                                            370 non-null    float64\n",
      " 44  Alanine transaminase                              225 non-null    float64\n",
      " 45  Aspartate transaminase                            226 non-null    float64\n",
      " 46  Gamma-glutamyltransferase                         153 non-null    float64\n",
      " 47  Total Bilirubin                                   182 non-null    float64\n",
      " 48  Direct Bilirubin                                  182 non-null    float64\n",
      " 49  Indirect Bilirubin                                182 non-null    float64\n",
      " 50  Alkaline phosphatase                              144 non-null    float64\n",
      " 51  Ionized calcium                                   50 non-null     float64\n",
      " 52  Strepto A                                         331 non-null    float64\n",
      " 53  Magnesium                                         40 non-null     float64\n",
      " 54  pCO2 (venous blood gas analysis)                  136 non-null    float64\n",
      " 55  Hb saturation (venous blood gas analysis)         136 non-null    float64\n",
      " 56  Base excess (venous blood gas analysis)           136 non-null    float64\n",
      " 57  pO2 (venous blood gas analysis)                   136 non-null    float64\n",
      " 58  Total CO2 (venous blood gas analysis)             136 non-null    float64\n",
      " 59  pH (venous blood gas analysis)                    136 non-null    float64\n",
      " 60  HCO3 (venous blood gas analysis)                  136 non-null    float64\n",
      " 61  Rods #                                            97 non-null     float64\n",
      " 62  Segmented                                         97 non-null     float64\n",
      " 63  Promyelocytes                                     97 non-null     float64\n",
      " 64  Metamyelocytes                                    97 non-null     float64\n",
      " 65  Myelocytes                                        97 non-null     float64\n",
      " 66  Urine - Aspect                                    70 non-null     object \n",
      " 67  Urine - pH                                        69 non-null     object \n",
      " 68  Urine - Hemoglobin                                69 non-null     object \n",
      " 69  Urine - Density                                   70 non-null     float64\n",
      " 70  Urine - Leukocytes                                70 non-null     object \n",
      " 71  Urine - Crystals                                  70 non-null     object \n",
      " 72  Urine - Red blood cells                           70 non-null     float64\n",
      " 73  Urine - Granular cylinders                        69 non-null     float64\n",
      " 74  Urine - Color                                     70 non-null     object \n",
      " 75  Relationship (Patient/Normal)                     91 non-null     float64\n",
      " 76  International normalized ratio (INR)              133 non-null    float64\n",
      " 77  Lactic Dehydrogenase                              101 non-null    float64\n",
      " 78  Vitamin B12                                       3 non-null      float64\n",
      " 79  Creatine phosphokinase (CPK)                      104 non-null    float64\n",
      " 80  Ferritin                                          23 non-null     float64\n",
      " 81  Arterial Lactic Acid                              27 non-null     float64\n",
      " 82  Lipase dosage                                     8 non-null      float64\n",
      " 83  Albumin                                           13 non-null     float64\n",
      " 84  Hb saturation (arterial blood gases)              27 non-null     float64\n",
      " 85  pCO2 (arterial blood gas analysis)                27 non-null     float64\n",
      " 86  Base excess (arterial blood gas analysis)         27 non-null     float64\n",
      " 87  pH (arterial blood gas analysis)                  27 non-null     float64\n",
      " 88  Total CO2 (arterial blood gas analysis)           27 non-null     float64\n",
      " 89  HCO3 (arterial blood gas analysis)                27 non-null     float64\n",
      " 90  pO2 (arterial blood gas analysis)                 27 non-null     float64\n",
      " 91  Arteiral Fio2                                     20 non-null     float64\n",
      " 92  Phosphor                                          20 non-null     float64\n",
      " 93  ctO2 (arterial blood gas analysis)                27 non-null     float64\n",
      "dtypes: float64(82), int64(5), object(7)\n",
      "memory usage: 4.0+ MB\n"
     ]
    }
   ],
   "source": [
    "cov_df.info()"
   ]
  },
  {
   "cell_type": "code",
   "execution_count": 15,
   "metadata": {
    "colab": {
     "base_uri": "https://localhost:8080/",
     "height": 173
    },
    "colab_type": "code",
    "id": "AkCQA3a2vtvQ",
    "outputId": "34bcc383-84a9-4c47-dd14-4c510c61d783"
   },
   "outputs": [
    {
     "data": {
      "text/plain": [
       "array([            nan, -8.94807428e-02,  9.93859023e-04,  9.14684609e-02,\n",
       "       -4.51379180e-01, -3.60904574e-01,  1.90096271e+00,  1.81944147e-01,\n",
       "       -2.70429939e-01,  9.96215582e-01,  4.70567846e+00, -1.35612631e+00,\n",
       "       -5.41853786e-01,  1.35811508e+00, -9.94227290e-01, -6.32328331e-01,\n",
       "       -1.79955348e-01, -1.17517650e+00,  1.26764047e+00,  1.08669019e+00,\n",
       "       -1.26565111e+00,  8.15266371e-01,  4.53367949e-01,  9.05740976e-01,\n",
       "        3.62893343e-01,  2.72418737e-01, -1.08470190e+00,  6.34317160e-01,\n",
       "       -7.22802937e-01,  2.08191180e+00, -8.13278079e-01,  5.43842554e-01,\n",
       "        1.72001350e+00,  3.07713366e+00,  1.17716479e+00, -2.35134745e+00])"
      ]
     },
     "execution_count": 15,
     "metadata": {},
     "output_type": "execute_result"
    }
   ],
   "source": [
    "cov_df['Relationship (Patient/Normal)'].unique()"
   ]
  },
  {
   "cell_type": "code",
   "execution_count": 16,
   "metadata": {
    "colab": {
     "base_uri": "https://localhost:8080/",
     "height": 1000
    },
    "colab_type": "code",
    "id": "XMNCWyUgRVYj",
    "outputId": "179557b4-f870-4595-e5da-27c29aa61f50"
   },
   "outputs": [
    {
     "data": {
      "text/plain": [
       "330     0\n",
       "334     0\n",
       "1179    0\n",
       "1260    0\n",
       "1383    0\n",
       "1388    0\n",
       "1867    0\n",
       "2497    0\n",
       "3538    0\n",
       "4355    0\n",
       "4560    0\n",
       "4737    0\n",
       "4998    0\n",
       "Name: sars_cov2, dtype: int64"
      ]
     },
     "execution_count": 16,
     "metadata": {},
     "output_type": "execute_result"
    },
    {
     "data": {
      "text/plain": [
       "2497    0\n",
       "3121    0\n",
       "3620    0\n",
       "4114    0\n",
       "4346    1\n",
       "4459    1\n",
       "5229    0\n",
       "5256    1\n",
       "Name: sars_cov2, dtype: int64"
      ]
     },
     "execution_count": 16,
     "metadata": {},
     "output_type": "execute_result"
    },
    {
     "data": {
      "text/plain": [
       "294     0\n",
       "330     0\n",
       "333     0\n",
       "334     0\n",
       "730     0\n",
       "776     0\n",
       "1260    0\n",
       "1383    0\n",
       "1388    0\n",
       "1610    0\n",
       "2497    0\n",
       "2625    0\n",
       "3435    0\n",
       "3620    0\n",
       "3655    0\n",
       "3728    0\n",
       "3744    0\n",
       "4560    0\n",
       "4737    0\n",
       "4871    0\n",
       "5161    1\n",
       "5214    0\n",
       "5341    1\n",
       "Name: sars_cov2, dtype: int64"
      ]
     },
     "execution_count": 16,
     "metadata": {},
     "output_type": "execute_result"
    },
    {
     "data": {
      "text/plain": [
       "412     0\n",
       "1317    0\n",
       "1338    0\n",
       "2528    0\n",
       "4535    1\n",
       "4910    0\n",
       "4926    0\n",
       "4933    0\n",
       "5009    1\n",
       "5010    0\n",
       "5066    0\n",
       "5069    1\n",
       "5099    0\n",
       "5161    1\n",
       "5165    1\n",
       "5172    0\n",
       "5196    1\n",
       "5210    1\n",
       "5226    1\n",
       "5250    1\n",
       "5329    1\n",
       "5410    0\n",
       "5423    1\n",
       "5511    0\n",
       "5564    1\n",
       "5566    1\n",
       "5602    0\n",
       "Name: sars_cov2, dtype: int64"
      ]
     },
     "execution_count": 16,
     "metadata": {},
     "output_type": "execute_result"
    }
   ],
   "source": [
    "cov_df['sars_cov2'][cov_df['Albumin'].notnull()]\n",
    "cov_df['sars_cov2'][cov_df['Lipase dosage'].notnull()]\n",
    "cov_df['sars_cov2'][cov_df['Ferritin'].notnull()]\n",
    "cov_df['sars_cov2'][cov_df['Hb saturation (arterial blood gases)'].notnull()]"
   ]
  },
  {
   "cell_type": "markdown",
   "metadata": {
    "colab_type": "text",
    "id": "-lkbwgHSTPqZ"
   },
   "source": [
    "Columns 'Albumin', 'Vitamin B12'Ferritin' can also be removed since the only null values do not respond to our target class of interest ('sars_cov2')"
   ]
  },
  {
   "cell_type": "code",
   "execution_count": 17,
   "metadata": {
    "colab": {},
    "colab_type": "code",
    "id": "B1NFIF3OTadM"
   },
   "outputs": [],
   "source": [
    "cov_df.drop(columns = ['Albumin',\n",
    "                       'Ferritin',\n",
    "                       'Vitamin B12',\n",
    "                        ], axis=1, inplace=True)"
   ]
  },
  {
   "cell_type": "markdown",
   "metadata": {
    "colab_type": "text",
    "id": "h2V26bwGokhv"
   },
   "source": [
    "Now, we shall be looking at the percentage nulls column wise and selecting the features accordingly. "
   ]
  },
  {
   "cell_type": "code",
   "execution_count": 18,
   "metadata": {
    "colab": {
     "base_uri": "https://localhost:8080/",
     "height": 35
    },
    "colab_type": "code",
    "id": "SdiJWo-Wo0Xd",
    "outputId": "56a7f25d-bb56-4867-b603-bbb24c9a8951"
   },
   "outputs": [
    {
     "data": {
      "text/plain": [
       "(5644, 91)"
      ]
     },
     "execution_count": 18,
     "metadata": {},
     "output_type": "execute_result"
    }
   ],
   "source": [
    "cov_df.shape"
   ]
  },
  {
   "cell_type": "markdown",
   "metadata": {
    "colab_type": "text",
    "id": "8vq4E-nysht3"
   },
   "source": [
    "Despite eliminating columns earlier that had 100 % null values we are still left with columns that have a huge amount of null values and thus we shall be removing columns that have more than 95% null values. Imputing 90% of the data on the basis of 10% would not make sense. \n",
    "\n",
    "The set of features that fall into this maily comprise of the following tests : \n",
    "\n",
    "*   Urine analysis\n",
    "*   Blood gas analysis ( Arterial and Venous)\n",
    "*   Liver profile tests"
   ]
  },
  {
   "cell_type": "markdown",
   "metadata": {
    "colab_type": "text",
    "id": "YkLDT-5LuPr0"
   },
   "source": [
    "Although Sodium and Potassium also have 93% null values, we shall be retaining these for now since some preliminary research suggests potassium levels to be a good marker. At the same time Magnesium would be removed because it has more than 99% null values and it is unreasonable for our model to be able to learn insights based on a handful of values.  "
   ]
  },
  {
   "cell_type": "markdown",
   "metadata": {
    "colab_type": "text",
    "id": "Eq8vVM70xTmM"
   },
   "source": [
    "Columns 20 : 36 RSV - Parainfluenza 2 are tests of different viruses. These clinical tests indicate if the patient has one of these flu, the chances are very high, they are not infected with covid-19. Hence these are a very good marker of our target class. "
   ]
  },
  {
   "cell_type": "code",
   "execution_count": 19,
   "metadata": {
    "colab": {},
    "colab_type": "code",
    "id": "F2XIJm4Qw3bs"
   },
   "outputs": [
    {
     "data": {
      "text/plain": [
       "Serum Glucose                  1.004831\n",
       "Respiratory Syncytial Virus    0.036957\n",
       "Influenza A                    0.013127\n",
       "Influenza B                    0.053674\n",
       "Parainfluenza 1                0.002216\n",
       "CoronavirusNL63                0.032200\n",
       "Rhinovirus/Enterovirus         0.201892\n",
       "Coronavirus HKU1               0.014585\n",
       "Parainfluenza 3                0.007347\n",
       "Chlamydophila pneumoniae       0.006617\n",
       "Adenovirus                     0.009530\n",
       "Parainfluenza 4                0.013866\n",
       "Coronavirus229E                0.006617\n",
       "CoronavirusOC43                0.005887\n",
       "Inf A H1N1 2009                0.067281\n",
       "Bordetella pertussis           0.001478\n",
       "Metapneumovirus                0.010255\n",
       "dtype: float64"
      ]
     },
     "execution_count": 19,
     "metadata": {},
     "output_type": "execute_result"
    }
   ],
   "source": [
    "cov_df.iloc[:,20:37].var()"
   ]
  },
  {
   "cell_type": "markdown",
   "metadata": {
    "colab_type": "text",
    "id": "KsqWDhS8zdLt"
   },
   "source": [
    "Parainfluenza 2 has zero variance which means it has not been detected in any of the patients and doesn't add any value and hence needs to be dropped. "
   ]
  },
  {
   "cell_type": "code",
   "execution_count": 20,
   "metadata": {},
   "outputs": [
    {
     "data": {
      "text/plain": [
       "(5644, 91)"
      ]
     },
     "execution_count": 20,
     "metadata": {},
     "output_type": "execute_result"
    }
   ],
   "source": [
    "cov_df.shape"
   ]
  },
  {
   "cell_type": "code",
   "execution_count": 21,
   "metadata": {
    "colab": {
     "base_uri": "https://localhost:8080/",
     "height": 1000
    },
    "colab_type": "code",
    "id": "8dDWpGvR0YP6",
    "outputId": "ae95f2c0-47eb-4012-fb28-5c7af95674f8"
   },
   "outputs": [
    {
     "name": "stdout",
     "output_type": "stream",
     "text": [
      "<class 'pandas.core.frame.DataFrame'>\n",
      "RangeIndex: 5644 entries, 0 to 5643\n",
      "Data columns (total 91 columns):\n",
      " #   Column                                            Non-Null Count  Dtype  \n",
      "---  ------                                            --------------  -----  \n",
      " 0   Patient ID                                        5644 non-null   object \n",
      " 1   Patient age quantile                              5644 non-null   int64  \n",
      " 2   sars_cov2                                         5644 non-null   int64  \n",
      " 3   regular_ward                                      5644 non-null   int64  \n",
      " 4   semi_icu                                          5644 non-null   int64  \n",
      " 5   icu                                               5644 non-null   int64  \n",
      " 6   Hematocrit                                        603 non-null    float64\n",
      " 7   Hemoglobin                                        603 non-null    float64\n",
      " 8   Platelets                                         602 non-null    float64\n",
      " 9   Mean platelet volume                              599 non-null    float64\n",
      " 10  Red blood Cells                                   602 non-null    float64\n",
      " 11  Lymphocytes                                       602 non-null    float64\n",
      " 12  Mean corpuscular hemoglobin concentration (MCHC)  602 non-null    float64\n",
      " 13  Leukocytes                                        602 non-null    float64\n",
      " 14  Basophils                                         602 non-null    float64\n",
      " 15  MCH                                               602 non-null    float64\n",
      " 16  Eosinophils                                       602 non-null    float64\n",
      " 17  MCV                                               602 non-null    float64\n",
      " 18  Monocytes                                         601 non-null    float64\n",
      " 19  RBC_DW                                            602 non-null    float64\n",
      " 20  Serum Glucose                                     208 non-null    float64\n",
      " 21  Respiratory Syncytial Virus                       1354 non-null   float64\n",
      " 22  Influenza A                                       1354 non-null   float64\n",
      " 23  Influenza B                                       1354 non-null   float64\n",
      " 24  Parainfluenza 1                                   1352 non-null   float64\n",
      " 25  CoronavirusNL63                                   1352 non-null   float64\n",
      " 26  Rhinovirus/Enterovirus                            1352 non-null   float64\n",
      " 27  Coronavirus HKU1                                  1352 non-null   float64\n",
      " 28  Parainfluenza 3                                   1352 non-null   float64\n",
      " 29  Chlamydophila pneumoniae                          1352 non-null   float64\n",
      " 30  Adenovirus                                        1352 non-null   float64\n",
      " 31  Parainfluenza 4                                   1352 non-null   float64\n",
      " 32  Coronavirus229E                                   1352 non-null   float64\n",
      " 33  CoronavirusOC43                                   1352 non-null   float64\n",
      " 34  Inf A H1N1 2009                                   1352 non-null   float64\n",
      " 35  Bordetella pertussis                              1352 non-null   float64\n",
      " 36  Metapneumovirus                                   1352 non-null   float64\n",
      " 37  Parainfluenza 2                                   1352 non-null   float64\n",
      " 38  Neutrophils                                       513 non-null    float64\n",
      " 39  Urea                                              397 non-null    float64\n",
      " 40  CRP                                               506 non-null    float64\n",
      " 41  Creatinine                                        424 non-null    float64\n",
      " 42  Potassium                                         371 non-null    float64\n",
      " 43  Sodium                                            370 non-null    float64\n",
      " 44  Alanine transaminase                              225 non-null    float64\n",
      " 45  Aspartate transaminase                            226 non-null    float64\n",
      " 46  Gamma-glutamyltransferase                         153 non-null    float64\n",
      " 47  Total Bilirubin                                   182 non-null    float64\n",
      " 48  Direct Bilirubin                                  182 non-null    float64\n",
      " 49  Indirect Bilirubin                                182 non-null    float64\n",
      " 50  Alkaline phosphatase                              144 non-null    float64\n",
      " 51  Ionized calcium                                   50 non-null     float64\n",
      " 52  Strepto A                                         331 non-null    float64\n",
      " 53  Magnesium                                         40 non-null     float64\n",
      " 54  pCO2 (venous blood gas analysis)                  136 non-null    float64\n",
      " 55  Hb saturation (venous blood gas analysis)         136 non-null    float64\n",
      " 56  Base excess (venous blood gas analysis)           136 non-null    float64\n",
      " 57  pO2 (venous blood gas analysis)                   136 non-null    float64\n",
      " 58  Total CO2 (venous blood gas analysis)             136 non-null    float64\n",
      " 59  pH (venous blood gas analysis)                    136 non-null    float64\n",
      " 60  HCO3 (venous blood gas analysis)                  136 non-null    float64\n",
      " 61  Rods #                                            97 non-null     float64\n",
      " 62  Segmented                                         97 non-null     float64\n",
      " 63  Promyelocytes                                     97 non-null     float64\n",
      " 64  Metamyelocytes                                    97 non-null     float64\n",
      " 65  Myelocytes                                        97 non-null     float64\n",
      " 66  Urine - Aspect                                    70 non-null     object \n",
      " 67  Urine - pH                                        69 non-null     object \n",
      " 68  Urine - Hemoglobin                                69 non-null     object \n",
      " 69  Urine - Density                                   70 non-null     float64\n",
      " 70  Urine - Leukocytes                                70 non-null     object \n",
      " 71  Urine - Crystals                                  70 non-null     object \n",
      " 72  Urine - Red blood cells                           70 non-null     float64\n",
      " 73  Urine - Granular cylinders                        69 non-null     float64\n",
      " 74  Urine - Color                                     70 non-null     object \n",
      " 75  Relationship (Patient/Normal)                     91 non-null     float64\n",
      " 76  International normalized ratio (INR)              133 non-null    float64\n",
      " 77  Lactic Dehydrogenase                              101 non-null    float64\n",
      " 78  Creatine phosphokinase (CPK)                      104 non-null    float64\n",
      " 79  Arterial Lactic Acid                              27 non-null     float64\n",
      " 80  Lipase dosage                                     8 non-null      float64\n",
      " 81  Hb saturation (arterial blood gases)              27 non-null     float64\n",
      " 82  pCO2 (arterial blood gas analysis)                27 non-null     float64\n",
      " 83  Base excess (arterial blood gas analysis)         27 non-null     float64\n",
      " 84  pH (arterial blood gas analysis)                  27 non-null     float64\n",
      " 85  Total CO2 (arterial blood gas analysis)           27 non-null     float64\n",
      " 86  HCO3 (arterial blood gas analysis)                27 non-null     float64\n",
      " 87  pO2 (arterial blood gas analysis)                 27 non-null     float64\n",
      " 88  Arteiral Fio2                                     20 non-null     float64\n",
      " 89  Phosphor                                          20 non-null     float64\n",
      " 90  ctO2 (arterial blood gas analysis)                27 non-null     float64\n",
      "dtypes: float64(79), int64(5), object(7)\n",
      "memory usage: 3.9+ MB\n"
     ]
    }
   ],
   "source": [
    "cov_df.info()    # Main dataset"
   ]
  },
  {
   "cell_type": "markdown",
   "metadata": {},
   "source": [
    "Making subsets (columnwise):\n",
    "\n",
    "1. blood_df ----columns: 0-20, 52-65, 77-90\n",
    "\n",
    "2. flu_df   ----columns: 0-5, 21-37\n",
    "\n",
    "3. liver_df ----columns: 0-5, 44-50\n",
    "\n",
    "4. urine_df ----columns: 0-5, 66-74"
   ]
  },
  {
   "cell_type": "markdown",
   "metadata": {},
   "source": [
    "FLU, LIVER and URINE subsets"
   ]
  },
  {
   "cell_type": "code",
   "execution_count": 22,
   "metadata": {},
   "outputs": [],
   "source": [
    "flu_df=cov_df.iloc[:,21:38]\n",
    "liver_df=cov_df.iloc[:,44:51]\n",
    "urine_df=cov_df.iloc[:,66:75]"
   ]
  },
  {
   "cell_type": "code",
   "execution_count": 23,
   "metadata": {},
   "outputs": [],
   "source": [
    "for i in range(0,6):\n",
    "    name=cov_df.iloc[:,i].name\n",
    "    flu_df[name]=cov_df.iloc[:,i].values\n",
    "    liver_df[name]=cov_df.iloc[:,i].values\n",
    "    urine_df[name]=cov_df.iloc[:,i].values"
   ]
  },
  {
   "cell_type": "markdown",
   "metadata": {},
   "source": [
    "BLOOD subset"
   ]
  },
  {
   "cell_type": "code",
   "execution_count": 24,
   "metadata": {},
   "outputs": [],
   "source": [
    "blood_df = cov_df.iloc[:,0:21]\n",
    "#blood_df.info()"
   ]
  },
  {
   "cell_type": "code",
   "execution_count": 25,
   "metadata": {},
   "outputs": [],
   "source": [
    "for i in range(38,44):\n",
    "    name=cov_df.iloc[:,i].name\n",
    "    blood_df[name]=cov_df.iloc[:,i].values"
   ]
  },
  {
   "cell_type": "code",
   "execution_count": 26,
   "metadata": {},
   "outputs": [
    {
     "data": {
      "text/plain": [
       "Index(['Patient ID', 'Patient age quantile', 'sars_cov2', 'regular_ward',\n",
       "       'semi_icu', 'icu', 'Hematocrit', 'Hemoglobin', 'Platelets',\n",
       "       'Mean platelet volume ', 'Red blood Cells', 'Lymphocytes',\n",
       "       'Mean corpuscular hemoglobin concentration (MCHC)', 'Leukocytes',\n",
       "       'Basophils', 'MCH', 'Eosinophils', 'MCV', 'Monocytes', 'RBC_DW',\n",
       "       'Serum Glucose', 'Neutrophils', 'Urea', 'CRP', 'Creatinine',\n",
       "       'Potassium', 'Sodium'],\n",
       "      dtype='object')"
      ]
     },
     "execution_count": 26,
     "metadata": {},
     "output_type": "execute_result"
    }
   ],
   "source": [
    "blood_df.columns"
   ]
  },
  {
   "cell_type": "code",
   "execution_count": 27,
   "metadata": {},
   "outputs": [
    {
     "data": {
      "text/plain": [
       "(5644, 27)"
      ]
     },
     "execution_count": 27,
     "metadata": {},
     "output_type": "execute_result"
    }
   ],
   "source": [
    "blood_df.shape"
   ]
  },
  {
   "cell_type": "code",
   "execution_count": 28,
   "metadata": {},
   "outputs": [],
   "source": [
    "for i in range(52,66):\n",
    "    name=cov_df.iloc[:,i].name\n",
    "    blood_df[name]=cov_df.iloc[:,i].values"
   ]
  },
  {
   "cell_type": "code",
   "execution_count": 29,
   "metadata": {},
   "outputs": [],
   "source": [
    "for i in range(77,91):\n",
    "    name=cov_df.iloc[:,i].name\n",
    "    blood_df[name]=cov_df.iloc[:,i].values"
   ]
  },
  {
   "cell_type": "code",
   "execution_count": 30,
   "metadata": {},
   "outputs": [
    {
     "name": "stdout",
     "output_type": "stream",
     "text": [
      "<class 'pandas.core.frame.DataFrame'>\n",
      "RangeIndex: 5644 entries, 0 to 5643\n",
      "Data columns (total 55 columns):\n",
      " #   Column                                            Non-Null Count  Dtype  \n",
      "---  ------                                            --------------  -----  \n",
      " 0   Patient ID                                        5644 non-null   object \n",
      " 1   Patient age quantile                              5644 non-null   int64  \n",
      " 2   sars_cov2                                         5644 non-null   int64  \n",
      " 3   regular_ward                                      5644 non-null   int64  \n",
      " 4   semi_icu                                          5644 non-null   int64  \n",
      " 5   icu                                               5644 non-null   int64  \n",
      " 6   Hematocrit                                        603 non-null    float64\n",
      " 7   Hemoglobin                                        603 non-null    float64\n",
      " 8   Platelets                                         602 non-null    float64\n",
      " 9   Mean platelet volume                              599 non-null    float64\n",
      " 10  Red blood Cells                                   602 non-null    float64\n",
      " 11  Lymphocytes                                       602 non-null    float64\n",
      " 12  Mean corpuscular hemoglobin concentration (MCHC)  602 non-null    float64\n",
      " 13  Leukocytes                                        602 non-null    float64\n",
      " 14  Basophils                                         602 non-null    float64\n",
      " 15  MCH                                               602 non-null    float64\n",
      " 16  Eosinophils                                       602 non-null    float64\n",
      " 17  MCV                                               602 non-null    float64\n",
      " 18  Monocytes                                         601 non-null    float64\n",
      " 19  RBC_DW                                            602 non-null    float64\n",
      " 20  Serum Glucose                                     208 non-null    float64\n",
      " 21  Neutrophils                                       513 non-null    float64\n",
      " 22  Urea                                              397 non-null    float64\n",
      " 23  CRP                                               506 non-null    float64\n",
      " 24  Creatinine                                        424 non-null    float64\n",
      " 25  Potassium                                         371 non-null    float64\n",
      " 26  Sodium                                            370 non-null    float64\n",
      " 27  Strepto A                                         331 non-null    float64\n",
      " 28  Magnesium                                         40 non-null     float64\n",
      " 29  pCO2 (venous blood gas analysis)                  136 non-null    float64\n",
      " 30  Hb saturation (venous blood gas analysis)         136 non-null    float64\n",
      " 31  Base excess (venous blood gas analysis)           136 non-null    float64\n",
      " 32  pO2 (venous blood gas analysis)                   136 non-null    float64\n",
      " 33  Total CO2 (venous blood gas analysis)             136 non-null    float64\n",
      " 34  pH (venous blood gas analysis)                    136 non-null    float64\n",
      " 35  HCO3 (venous blood gas analysis)                  136 non-null    float64\n",
      " 36  Rods #                                            97 non-null     float64\n",
      " 37  Segmented                                         97 non-null     float64\n",
      " 38  Promyelocytes                                     97 non-null     float64\n",
      " 39  Metamyelocytes                                    97 non-null     float64\n",
      " 40  Myelocytes                                        97 non-null     float64\n",
      " 41  Lactic Dehydrogenase                              101 non-null    float64\n",
      " 42  Creatine phosphokinase (CPK)                      104 non-null    float64\n",
      " 43  Arterial Lactic Acid                              27 non-null     float64\n",
      " 44  Lipase dosage                                     8 non-null      float64\n",
      " 45  Hb saturation (arterial blood gases)              27 non-null     float64\n",
      " 46  pCO2 (arterial blood gas analysis)                27 non-null     float64\n",
      " 47  Base excess (arterial blood gas analysis)         27 non-null     float64\n",
      " 48  pH (arterial blood gas analysis)                  27 non-null     float64\n",
      " 49  Total CO2 (arterial blood gas analysis)           27 non-null     float64\n",
      " 50  HCO3 (arterial blood gas analysis)                27 non-null     float64\n",
      " 51  pO2 (arterial blood gas analysis)                 27 non-null     float64\n",
      " 52  Arteiral Fio2                                     20 non-null     float64\n",
      " 53  Phosphor                                          20 non-null     float64\n",
      " 54  ctO2 (arterial blood gas analysis)                27 non-null     float64\n",
      "dtypes: float64(49), int64(5), object(1)\n",
      "memory usage: 2.4+ MB\n"
     ]
    }
   ],
   "source": [
    "blood_df.info()"
   ]
  },
  {
   "cell_type": "code",
   "execution_count": 31,
   "metadata": {},
   "outputs": [],
   "source": [
    "blood_df=blood_df.drop(columns=['Magnesium','Lipase dosage'],axis=1)"
   ]
  },
  {
   "cell_type": "code",
   "execution_count": 32,
   "metadata": {},
   "outputs": [
    {
     "name": "stdout",
     "output_type": "stream",
     "text": [
      "<class 'pandas.core.frame.DataFrame'>\n",
      "RangeIndex: 5644 entries, 0 to 5643\n",
      "Data columns (total 53 columns):\n",
      " #   Column                                            Non-Null Count  Dtype  \n",
      "---  ------                                            --------------  -----  \n",
      " 0   Patient ID                                        5644 non-null   object \n",
      " 1   Patient age quantile                              5644 non-null   int64  \n",
      " 2   sars_cov2                                         5644 non-null   int64  \n",
      " 3   regular_ward                                      5644 non-null   int64  \n",
      " 4   semi_icu                                          5644 non-null   int64  \n",
      " 5   icu                                               5644 non-null   int64  \n",
      " 6   Hematocrit                                        603 non-null    float64\n",
      " 7   Hemoglobin                                        603 non-null    float64\n",
      " 8   Platelets                                         602 non-null    float64\n",
      " 9   Mean platelet volume                              599 non-null    float64\n",
      " 10  Red blood Cells                                   602 non-null    float64\n",
      " 11  Lymphocytes                                       602 non-null    float64\n",
      " 12  Mean corpuscular hemoglobin concentration (MCHC)  602 non-null    float64\n",
      " 13  Leukocytes                                        602 non-null    float64\n",
      " 14  Basophils                                         602 non-null    float64\n",
      " 15  MCH                                               602 non-null    float64\n",
      " 16  Eosinophils                                       602 non-null    float64\n",
      " 17  MCV                                               602 non-null    float64\n",
      " 18  Monocytes                                         601 non-null    float64\n",
      " 19  RBC_DW                                            602 non-null    float64\n",
      " 20  Serum Glucose                                     208 non-null    float64\n",
      " 21  Neutrophils                                       513 non-null    float64\n",
      " 22  Urea                                              397 non-null    float64\n",
      " 23  CRP                                               506 non-null    float64\n",
      " 24  Creatinine                                        424 non-null    float64\n",
      " 25  Potassium                                         371 non-null    float64\n",
      " 26  Sodium                                            370 non-null    float64\n",
      " 27  Strepto A                                         331 non-null    float64\n",
      " 28  pCO2 (venous blood gas analysis)                  136 non-null    float64\n",
      " 29  Hb saturation (venous blood gas analysis)         136 non-null    float64\n",
      " 30  Base excess (venous blood gas analysis)           136 non-null    float64\n",
      " 31  pO2 (venous blood gas analysis)                   136 non-null    float64\n",
      " 32  Total CO2 (venous blood gas analysis)             136 non-null    float64\n",
      " 33  pH (venous blood gas analysis)                    136 non-null    float64\n",
      " 34  HCO3 (venous blood gas analysis)                  136 non-null    float64\n",
      " 35  Rods #                                            97 non-null     float64\n",
      " 36  Segmented                                         97 non-null     float64\n",
      " 37  Promyelocytes                                     97 non-null     float64\n",
      " 38  Metamyelocytes                                    97 non-null     float64\n",
      " 39  Myelocytes                                        97 non-null     float64\n",
      " 40  Lactic Dehydrogenase                              101 non-null    float64\n",
      " 41  Creatine phosphokinase (CPK)                      104 non-null    float64\n",
      " 42  Arterial Lactic Acid                              27 non-null     float64\n",
      " 43  Hb saturation (arterial blood gases)              27 non-null     float64\n",
      " 44  pCO2 (arterial blood gas analysis)                27 non-null     float64\n",
      " 45  Base excess (arterial blood gas analysis)         27 non-null     float64\n",
      " 46  pH (arterial blood gas analysis)                  27 non-null     float64\n",
      " 47  Total CO2 (arterial blood gas analysis)           27 non-null     float64\n",
      " 48  HCO3 (arterial blood gas analysis)                27 non-null     float64\n",
      " 49  pO2 (arterial blood gas analysis)                 27 non-null     float64\n",
      " 50  Arteiral Fio2                                     20 non-null     float64\n",
      " 51  Phosphor                                          20 non-null     float64\n",
      " 52  ctO2 (arterial blood gas analysis)                27 non-null     float64\n",
      "dtypes: float64(47), int64(5), object(1)\n",
      "memory usage: 2.3+ MB\n"
     ]
    }
   ],
   "source": [
    "blood_df.info()"
   ]
  },
  {
   "cell_type": "code",
   "execution_count": 33,
   "metadata": {},
   "outputs": [],
   "source": [
    "blood_df=blood_df.drop(columns=blood_df.iloc[:,28:53].columns,axis=1)"
   ]
  },
  {
   "cell_type": "code",
   "execution_count": 34,
   "metadata": {},
   "outputs": [
    {
     "name": "stdout",
     "output_type": "stream",
     "text": [
      "<class 'pandas.core.frame.DataFrame'>\n",
      "RangeIndex: 5644 entries, 0 to 5643\n",
      "Data columns (total 28 columns):\n",
      " #   Column                                            Non-Null Count  Dtype  \n",
      "---  ------                                            --------------  -----  \n",
      " 0   Patient ID                                        5644 non-null   object \n",
      " 1   Patient age quantile                              5644 non-null   int64  \n",
      " 2   sars_cov2                                         5644 non-null   int64  \n",
      " 3   regular_ward                                      5644 non-null   int64  \n",
      " 4   semi_icu                                          5644 non-null   int64  \n",
      " 5   icu                                               5644 non-null   int64  \n",
      " 6   Hematocrit                                        603 non-null    float64\n",
      " 7   Hemoglobin                                        603 non-null    float64\n",
      " 8   Platelets                                         602 non-null    float64\n",
      " 9   Mean platelet volume                              599 non-null    float64\n",
      " 10  Red blood Cells                                   602 non-null    float64\n",
      " 11  Lymphocytes                                       602 non-null    float64\n",
      " 12  Mean corpuscular hemoglobin concentration (MCHC)  602 non-null    float64\n",
      " 13  Leukocytes                                        602 non-null    float64\n",
      " 14  Basophils                                         602 non-null    float64\n",
      " 15  MCH                                               602 non-null    float64\n",
      " 16  Eosinophils                                       602 non-null    float64\n",
      " 17  MCV                                               602 non-null    float64\n",
      " 18  Monocytes                                         601 non-null    float64\n",
      " 19  RBC_DW                                            602 non-null    float64\n",
      " 20  Serum Glucose                                     208 non-null    float64\n",
      " 21  Neutrophils                                       513 non-null    float64\n",
      " 22  Urea                                              397 non-null    float64\n",
      " 23  CRP                                               506 non-null    float64\n",
      " 24  Creatinine                                        424 non-null    float64\n",
      " 25  Potassium                                         371 non-null    float64\n",
      " 26  Sodium                                            370 non-null    float64\n",
      " 27  Strepto A                                         331 non-null    float64\n",
      "dtypes: float64(22), int64(5), object(1)\n",
      "memory usage: 1.2+ MB\n"
     ]
    }
   ],
   "source": [
    "blood_df.info()"
   ]
  },
  {
   "cell_type": "code",
   "execution_count": 35,
   "metadata": {},
   "outputs": [
    {
     "name": "stdout",
     "output_type": "stream",
     "text": [
      "<class 'pandas.core.frame.DataFrame'>\n",
      "RangeIndex: 5644 entries, 0 to 5643\n",
      "Data columns (total 23 columns):\n",
      " #   Column                       Non-Null Count  Dtype  \n",
      "---  ------                       --------------  -----  \n",
      " 0   Respiratory Syncytial Virus  1354 non-null   float64\n",
      " 1   Influenza A                  1354 non-null   float64\n",
      " 2   Influenza B                  1354 non-null   float64\n",
      " 3   Parainfluenza 1              1352 non-null   float64\n",
      " 4   CoronavirusNL63              1352 non-null   float64\n",
      " 5   Rhinovirus/Enterovirus       1352 non-null   float64\n",
      " 6   Coronavirus HKU1             1352 non-null   float64\n",
      " 7   Parainfluenza 3              1352 non-null   float64\n",
      " 8   Chlamydophila pneumoniae     1352 non-null   float64\n",
      " 9   Adenovirus                   1352 non-null   float64\n",
      " 10  Parainfluenza 4              1352 non-null   float64\n",
      " 11  Coronavirus229E              1352 non-null   float64\n",
      " 12  CoronavirusOC43              1352 non-null   float64\n",
      " 13  Inf A H1N1 2009              1352 non-null   float64\n",
      " 14  Bordetella pertussis         1352 non-null   float64\n",
      " 15  Metapneumovirus              1352 non-null   float64\n",
      " 16  Parainfluenza 2              1352 non-null   float64\n",
      " 17  Patient ID                   5644 non-null   object \n",
      " 18  Patient age quantile         5644 non-null   int64  \n",
      " 19  sars_cov2                    5644 non-null   int64  \n",
      " 20  regular_ward                 5644 non-null   int64  \n",
      " 21  semi_icu                     5644 non-null   int64  \n",
      " 22  icu                          5644 non-null   int64  \n",
      "dtypes: float64(17), int64(5), object(1)\n",
      "memory usage: 1014.3+ KB\n"
     ]
    }
   ],
   "source": [
    "flu_df.info()"
   ]
  },
  {
   "cell_type": "code",
   "execution_count": 36,
   "metadata": {},
   "outputs": [
    {
     "name": "stdout",
     "output_type": "stream",
     "text": [
      "<class 'pandas.core.frame.DataFrame'>\n",
      "RangeIndex: 5644 entries, 0 to 5643\n",
      "Data columns (total 13 columns):\n",
      " #   Column                      Non-Null Count  Dtype  \n",
      "---  ------                      --------------  -----  \n",
      " 0   Alanine transaminase        225 non-null    float64\n",
      " 1   Aspartate transaminase      226 non-null    float64\n",
      " 2   Gamma-glutamyltransferase   153 non-null    float64\n",
      " 3   Total Bilirubin             182 non-null    float64\n",
      " 4   Direct Bilirubin            182 non-null    float64\n",
      " 5   Indirect Bilirubin          182 non-null    float64\n",
      " 6   Alkaline phosphatase        144 non-null    float64\n",
      " 7   Patient ID                  5644 non-null   object \n",
      " 8   Patient age quantile        5644 non-null   int64  \n",
      " 9   sars_cov2                   5644 non-null   int64  \n",
      " 10  regular_ward                5644 non-null   int64  \n",
      " 11  semi_icu                    5644 non-null   int64  \n",
      " 12  icu                         5644 non-null   int64  \n",
      "dtypes: float64(7), int64(5), object(1)\n",
      "memory usage: 573.3+ KB\n"
     ]
    }
   ],
   "source": [
    "liver_df.info()"
   ]
  },
  {
   "cell_type": "code",
   "execution_count": 37,
   "metadata": {},
   "outputs": [
    {
     "name": "stdout",
     "output_type": "stream",
     "text": [
      "<class 'pandas.core.frame.DataFrame'>\n",
      "RangeIndex: 5644 entries, 0 to 5643\n",
      "Data columns (total 15 columns):\n",
      " #   Column                      Non-Null Count  Dtype  \n",
      "---  ------                      --------------  -----  \n",
      " 0   Urine - Aspect              70 non-null     object \n",
      " 1   Urine - pH                  69 non-null     object \n",
      " 2   Urine - Hemoglobin          69 non-null     object \n",
      " 3   Urine - Density             70 non-null     float64\n",
      " 4   Urine - Leukocytes          70 non-null     object \n",
      " 5   Urine - Crystals            70 non-null     object \n",
      " 6   Urine - Red blood cells     70 non-null     float64\n",
      " 7   Urine - Granular cylinders  69 non-null     float64\n",
      " 8   Urine - Color               70 non-null     object \n",
      " 9   Patient ID                  5644 non-null   object \n",
      " 10  Patient age quantile        5644 non-null   int64  \n",
      " 11  sars_cov2                   5644 non-null   int64  \n",
      " 12  regular_ward                5644 non-null   int64  \n",
      " 13  semi_icu                    5644 non-null   int64  \n",
      " 14  icu                         5644 non-null   int64  \n",
      "dtypes: float64(3), int64(5), object(7)\n",
      "memory usage: 661.5+ KB\n"
     ]
    }
   ],
   "source": [
    "urine_df.info()"
   ]
  },
  {
   "cell_type": "code",
   "execution_count": 38,
   "metadata": {},
   "outputs": [],
   "source": [
    "mdf=blood_df.merge(flu_df)"
   ]
  },
  {
   "cell_type": "code",
   "execution_count": 39,
   "metadata": {},
   "outputs": [],
   "source": [
    "mdf=mdf.merge(liver_df[['Patient ID','Patient age quantile','sars_cov2','regular_ward','semi_icu','icu','Alanine transaminase','Aspartate transaminase']])\n"
   ]
  },
  {
   "cell_type": "code",
   "execution_count": 40,
   "metadata": {},
   "outputs": [
    {
     "data": {
      "text/html": [
       "<div>\n",
       "<style scoped>\n",
       "    .dataframe tbody tr th:only-of-type {\n",
       "        vertical-align: middle;\n",
       "    }\n",
       "\n",
       "    .dataframe tbody tr th {\n",
       "        vertical-align: top;\n",
       "    }\n",
       "\n",
       "    .dataframe thead th {\n",
       "        text-align: right;\n",
       "    }\n",
       "</style>\n",
       "<table border=\"1\" class=\"dataframe\">\n",
       "  <thead>\n",
       "    <tr style=\"text-align: right;\">\n",
       "      <th></th>\n",
       "      <th>Patient ID</th>\n",
       "      <th>Patient age quantile</th>\n",
       "      <th>sars_cov2</th>\n",
       "      <th>regular_ward</th>\n",
       "      <th>semi_icu</th>\n",
       "      <th>icu</th>\n",
       "      <th>Hematocrit</th>\n",
       "      <th>Hemoglobin</th>\n",
       "      <th>Platelets</th>\n",
       "      <th>Mean platelet volume</th>\n",
       "      <th>...</th>\n",
       "      <th>Adenovirus</th>\n",
       "      <th>Parainfluenza 4</th>\n",
       "      <th>Coronavirus229E</th>\n",
       "      <th>CoronavirusOC43</th>\n",
       "      <th>Inf A H1N1 2009</th>\n",
       "      <th>Bordetella pertussis</th>\n",
       "      <th>Metapneumovirus</th>\n",
       "      <th>Parainfluenza 2</th>\n",
       "      <th>Alanine transaminase</th>\n",
       "      <th>Aspartate transaminase</th>\n",
       "    </tr>\n",
       "  </thead>\n",
       "  <tbody>\n",
       "    <tr>\n",
       "      <th>0</th>\n",
       "      <td>44477f75e8169d2</td>\n",
       "      <td>13</td>\n",
       "      <td>0</td>\n",
       "      <td>0</td>\n",
       "      <td>0</td>\n",
       "      <td>0</td>\n",
       "      <td>NaN</td>\n",
       "      <td>NaN</td>\n",
       "      <td>NaN</td>\n",
       "      <td>NaN</td>\n",
       "      <td>...</td>\n",
       "      <td>NaN</td>\n",
       "      <td>NaN</td>\n",
       "      <td>NaN</td>\n",
       "      <td>NaN</td>\n",
       "      <td>NaN</td>\n",
       "      <td>NaN</td>\n",
       "      <td>NaN</td>\n",
       "      <td>NaN</td>\n",
       "      <td>NaN</td>\n",
       "      <td>NaN</td>\n",
       "    </tr>\n",
       "    <tr>\n",
       "      <th>1</th>\n",
       "      <td>126e9dd13932f68</td>\n",
       "      <td>17</td>\n",
       "      <td>0</td>\n",
       "      <td>0</td>\n",
       "      <td>0</td>\n",
       "      <td>0</td>\n",
       "      <td>0.236515</td>\n",
       "      <td>-0.022340</td>\n",
       "      <td>-0.517413</td>\n",
       "      <td>0.010677</td>\n",
       "      <td>...</td>\n",
       "      <td>0.0</td>\n",
       "      <td>0.0</td>\n",
       "      <td>0.0</td>\n",
       "      <td>0.0</td>\n",
       "      <td>0.0</td>\n",
       "      <td>0.0</td>\n",
       "      <td>0.0</td>\n",
       "      <td>0.0</td>\n",
       "      <td>NaN</td>\n",
       "      <td>NaN</td>\n",
       "    </tr>\n",
       "    <tr>\n",
       "      <th>2</th>\n",
       "      <td>a46b4402a0e5696</td>\n",
       "      <td>8</td>\n",
       "      <td>0</td>\n",
       "      <td>0</td>\n",
       "      <td>0</td>\n",
       "      <td>0</td>\n",
       "      <td>NaN</td>\n",
       "      <td>NaN</td>\n",
       "      <td>NaN</td>\n",
       "      <td>NaN</td>\n",
       "      <td>...</td>\n",
       "      <td>NaN</td>\n",
       "      <td>NaN</td>\n",
       "      <td>NaN</td>\n",
       "      <td>NaN</td>\n",
       "      <td>NaN</td>\n",
       "      <td>NaN</td>\n",
       "      <td>NaN</td>\n",
       "      <td>NaN</td>\n",
       "      <td>NaN</td>\n",
       "      <td>NaN</td>\n",
       "    </tr>\n",
       "    <tr>\n",
       "      <th>3</th>\n",
       "      <td>f7d619a94f97c45</td>\n",
       "      <td>5</td>\n",
       "      <td>0</td>\n",
       "      <td>0</td>\n",
       "      <td>0</td>\n",
       "      <td>0</td>\n",
       "      <td>NaN</td>\n",
       "      <td>NaN</td>\n",
       "      <td>NaN</td>\n",
       "      <td>NaN</td>\n",
       "      <td>...</td>\n",
       "      <td>NaN</td>\n",
       "      <td>NaN</td>\n",
       "      <td>NaN</td>\n",
       "      <td>NaN</td>\n",
       "      <td>NaN</td>\n",
       "      <td>NaN</td>\n",
       "      <td>NaN</td>\n",
       "      <td>NaN</td>\n",
       "      <td>NaN</td>\n",
       "      <td>NaN</td>\n",
       "    </tr>\n",
       "    <tr>\n",
       "      <th>4</th>\n",
       "      <td>d9e41465789c2b5</td>\n",
       "      <td>15</td>\n",
       "      <td>0</td>\n",
       "      <td>0</td>\n",
       "      <td>0</td>\n",
       "      <td>0</td>\n",
       "      <td>NaN</td>\n",
       "      <td>NaN</td>\n",
       "      <td>NaN</td>\n",
       "      <td>NaN</td>\n",
       "      <td>...</td>\n",
       "      <td>0.0</td>\n",
       "      <td>0.0</td>\n",
       "      <td>0.0</td>\n",
       "      <td>0.0</td>\n",
       "      <td>0.0</td>\n",
       "      <td>0.0</td>\n",
       "      <td>0.0</td>\n",
       "      <td>0.0</td>\n",
       "      <td>NaN</td>\n",
       "      <td>NaN</td>\n",
       "    </tr>\n",
       "    <tr>\n",
       "      <th>...</th>\n",
       "      <td>...</td>\n",
       "      <td>...</td>\n",
       "      <td>...</td>\n",
       "      <td>...</td>\n",
       "      <td>...</td>\n",
       "      <td>...</td>\n",
       "      <td>...</td>\n",
       "      <td>...</td>\n",
       "      <td>...</td>\n",
       "      <td>...</td>\n",
       "      <td>...</td>\n",
       "      <td>...</td>\n",
       "      <td>...</td>\n",
       "      <td>...</td>\n",
       "      <td>...</td>\n",
       "      <td>...</td>\n",
       "      <td>...</td>\n",
       "      <td>...</td>\n",
       "      <td>...</td>\n",
       "      <td>...</td>\n",
       "      <td>...</td>\n",
       "    </tr>\n",
       "    <tr>\n",
       "      <th>5639</th>\n",
       "      <td>ae66feb9e4dc3a0</td>\n",
       "      <td>3</td>\n",
       "      <td>1</td>\n",
       "      <td>0</td>\n",
       "      <td>0</td>\n",
       "      <td>0</td>\n",
       "      <td>NaN</td>\n",
       "      <td>NaN</td>\n",
       "      <td>NaN</td>\n",
       "      <td>NaN</td>\n",
       "      <td>...</td>\n",
       "      <td>NaN</td>\n",
       "      <td>NaN</td>\n",
       "      <td>NaN</td>\n",
       "      <td>NaN</td>\n",
       "      <td>NaN</td>\n",
       "      <td>NaN</td>\n",
       "      <td>NaN</td>\n",
       "      <td>NaN</td>\n",
       "      <td>NaN</td>\n",
       "      <td>NaN</td>\n",
       "    </tr>\n",
       "    <tr>\n",
       "      <th>5640</th>\n",
       "      <td>517c2834024f3ea</td>\n",
       "      <td>17</td>\n",
       "      <td>0</td>\n",
       "      <td>0</td>\n",
       "      <td>0</td>\n",
       "      <td>0</td>\n",
       "      <td>NaN</td>\n",
       "      <td>NaN</td>\n",
       "      <td>NaN</td>\n",
       "      <td>NaN</td>\n",
       "      <td>...</td>\n",
       "      <td>NaN</td>\n",
       "      <td>NaN</td>\n",
       "      <td>NaN</td>\n",
       "      <td>NaN</td>\n",
       "      <td>NaN</td>\n",
       "      <td>NaN</td>\n",
       "      <td>NaN</td>\n",
       "      <td>NaN</td>\n",
       "      <td>NaN</td>\n",
       "      <td>NaN</td>\n",
       "    </tr>\n",
       "    <tr>\n",
       "      <th>5641</th>\n",
       "      <td>5c57d6037fe266d</td>\n",
       "      <td>4</td>\n",
       "      <td>0</td>\n",
       "      <td>0</td>\n",
       "      <td>0</td>\n",
       "      <td>0</td>\n",
       "      <td>NaN</td>\n",
       "      <td>NaN</td>\n",
       "      <td>NaN</td>\n",
       "      <td>NaN</td>\n",
       "      <td>...</td>\n",
       "      <td>NaN</td>\n",
       "      <td>NaN</td>\n",
       "      <td>NaN</td>\n",
       "      <td>NaN</td>\n",
       "      <td>NaN</td>\n",
       "      <td>NaN</td>\n",
       "      <td>NaN</td>\n",
       "      <td>NaN</td>\n",
       "      <td>NaN</td>\n",
       "      <td>NaN</td>\n",
       "    </tr>\n",
       "    <tr>\n",
       "      <th>5642</th>\n",
       "      <td>c20c44766f28291</td>\n",
       "      <td>10</td>\n",
       "      <td>0</td>\n",
       "      <td>0</td>\n",
       "      <td>0</td>\n",
       "      <td>0</td>\n",
       "      <td>NaN</td>\n",
       "      <td>NaN</td>\n",
       "      <td>NaN</td>\n",
       "      <td>NaN</td>\n",
       "      <td>...</td>\n",
       "      <td>NaN</td>\n",
       "      <td>NaN</td>\n",
       "      <td>NaN</td>\n",
       "      <td>NaN</td>\n",
       "      <td>NaN</td>\n",
       "      <td>NaN</td>\n",
       "      <td>NaN</td>\n",
       "      <td>NaN</td>\n",
       "      <td>NaN</td>\n",
       "      <td>NaN</td>\n",
       "    </tr>\n",
       "    <tr>\n",
       "      <th>5643</th>\n",
       "      <td>2697fdccbfeb7f7</td>\n",
       "      <td>19</td>\n",
       "      <td>1</td>\n",
       "      <td>0</td>\n",
       "      <td>0</td>\n",
       "      <td>0</td>\n",
       "      <td>0.694287</td>\n",
       "      <td>0.541564</td>\n",
       "      <td>-0.906829</td>\n",
       "      <td>-0.325903</td>\n",
       "      <td>...</td>\n",
       "      <td>NaN</td>\n",
       "      <td>NaN</td>\n",
       "      <td>NaN</td>\n",
       "      <td>NaN</td>\n",
       "      <td>NaN</td>\n",
       "      <td>NaN</td>\n",
       "      <td>NaN</td>\n",
       "      <td>NaN</td>\n",
       "      <td>-0.28361</td>\n",
       "      <td>0.108761</td>\n",
       "    </tr>\n",
       "  </tbody>\n",
       "</table>\n",
       "<p>5644 rows × 47 columns</p>\n",
       "</div>"
      ],
      "text/plain": [
       "           Patient ID  Patient age quantile  sars_cov2  regular_ward  \\\n",
       "0     44477f75e8169d2                    13          0             0   \n",
       "1     126e9dd13932f68                    17          0             0   \n",
       "2     a46b4402a0e5696                     8          0             0   \n",
       "3     f7d619a94f97c45                     5          0             0   \n",
       "4     d9e41465789c2b5                    15          0             0   \n",
       "...               ...                   ...        ...           ...   \n",
       "5639  ae66feb9e4dc3a0                     3          1             0   \n",
       "5640  517c2834024f3ea                    17          0             0   \n",
       "5641  5c57d6037fe266d                     4          0             0   \n",
       "5642  c20c44766f28291                    10          0             0   \n",
       "5643  2697fdccbfeb7f7                    19          1             0   \n",
       "\n",
       "      semi_icu  icu  Hematocrit  Hemoglobin  Platelets  Mean platelet volume   \\\n",
       "0            0    0         NaN         NaN        NaN                    NaN   \n",
       "1            0    0    0.236515   -0.022340  -0.517413               0.010677   \n",
       "2            0    0         NaN         NaN        NaN                    NaN   \n",
       "3            0    0         NaN         NaN        NaN                    NaN   \n",
       "4            0    0         NaN         NaN        NaN                    NaN   \n",
       "...        ...  ...         ...         ...        ...                    ...   \n",
       "5639         0    0         NaN         NaN        NaN                    NaN   \n",
       "5640         0    0         NaN         NaN        NaN                    NaN   \n",
       "5641         0    0         NaN         NaN        NaN                    NaN   \n",
       "5642         0    0         NaN         NaN        NaN                    NaN   \n",
       "5643         0    0    0.694287    0.541564  -0.906829              -0.325903   \n",
       "\n",
       "      ...  Adenovirus  Parainfluenza 4  Coronavirus229E  CoronavirusOC43  \\\n",
       "0     ...         NaN              NaN              NaN              NaN   \n",
       "1     ...         0.0              0.0              0.0              0.0   \n",
       "2     ...         NaN              NaN              NaN              NaN   \n",
       "3     ...         NaN              NaN              NaN              NaN   \n",
       "4     ...         0.0              0.0              0.0              0.0   \n",
       "...   ...         ...              ...              ...              ...   \n",
       "5639  ...         NaN              NaN              NaN              NaN   \n",
       "5640  ...         NaN              NaN              NaN              NaN   \n",
       "5641  ...         NaN              NaN              NaN              NaN   \n",
       "5642  ...         NaN              NaN              NaN              NaN   \n",
       "5643  ...         NaN              NaN              NaN              NaN   \n",
       "\n",
       "      Inf A H1N1 2009  Bordetella pertussis  Metapneumovirus  Parainfluenza 2  \\\n",
       "0                 NaN                   NaN              NaN              NaN   \n",
       "1                 0.0                   0.0              0.0              0.0   \n",
       "2                 NaN                   NaN              NaN              NaN   \n",
       "3                 NaN                   NaN              NaN              NaN   \n",
       "4                 0.0                   0.0              0.0              0.0   \n",
       "...               ...                   ...              ...              ...   \n",
       "5639              NaN                   NaN              NaN              NaN   \n",
       "5640              NaN                   NaN              NaN              NaN   \n",
       "5641              NaN                   NaN              NaN              NaN   \n",
       "5642              NaN                   NaN              NaN              NaN   \n",
       "5643              NaN                   NaN              NaN              NaN   \n",
       "\n",
       "      Alanine transaminase  Aspartate transaminase  \n",
       "0                      NaN                     NaN  \n",
       "1                      NaN                     NaN  \n",
       "2                      NaN                     NaN  \n",
       "3                      NaN                     NaN  \n",
       "4                      NaN                     NaN  \n",
       "...                    ...                     ...  \n",
       "5639                   NaN                     NaN  \n",
       "5640                   NaN                     NaN  \n",
       "5641                   NaN                     NaN  \n",
       "5642                   NaN                     NaN  \n",
       "5643              -0.28361                0.108761  \n",
       "\n",
       "[5644 rows x 47 columns]"
      ]
     },
     "execution_count": 40,
     "metadata": {},
     "output_type": "execute_result"
    }
   ],
   "source": [
    "mdf"
   ]
  },
  {
   "cell_type": "code",
   "execution_count": 41,
   "metadata": {},
   "outputs": [
    {
     "data": {
      "text/plain": [
       "0        6\n",
       "1       44\n",
       "2        6\n",
       "3        6\n",
       "4       23\n",
       "        ..\n",
       "5639     6\n",
       "5640     6\n",
       "5641     6\n",
       "5642     6\n",
       "5643    28\n",
       "Length: 5644, dtype: int64"
      ]
     },
     "execution_count": 41,
     "metadata": {},
     "output_type": "execute_result"
    }
   ],
   "source": [
    "a=mdf.count(axis=1) # number of non-null values-rowwise\n",
    "a"
   ]
  },
  {
   "cell_type": "code",
   "execution_count": 42,
   "metadata": {},
   "outputs": [],
   "source": [
    "for i in range(0,5644):\n",
    "    a[i]=(47-a[i])\n",
    "    a[i]/=0.47"
   ]
  },
  {
   "cell_type": "code",
   "execution_count": 43,
   "metadata": {},
   "outputs": [
    {
     "data": {
      "text/plain": [
       "0       87\n",
       "1        6\n",
       "2       87\n",
       "3       87\n",
       "4       51\n",
       "        ..\n",
       "5639    87\n",
       "5640    87\n",
       "5641    87\n",
       "5642    87\n",
       "5643    40\n",
       "Length: 5644, dtype: int64"
      ]
     },
     "execution_count": 43,
     "metadata": {},
     "output_type": "execute_result"
    }
   ],
   "source": [
    "a   # percentage of null values for each row"
   ]
  },
  {
   "cell_type": "code",
   "execution_count": 44,
   "metadata": {},
   "outputs": [],
   "source": [
    "rows_ind=[]\n",
    "for i in range(0,5644):\n",
    "    if(a[i]>=10):     # If null values >= 10 percent\n",
    "        rows_ind.append(i)\n",
    "        "
   ]
  },
  {
   "cell_type": "code",
   "execution_count": 45,
   "metadata": {},
   "outputs": [
    {
     "data": {
      "text/plain": [
       "(5390,)"
      ]
     },
     "execution_count": 45,
     "metadata": {},
     "output_type": "execute_result"
    }
   ],
   "source": [
    "r=np.array(rows_ind)  #Indices of rows to be dropped\n",
    "r.shape"
   ]
  },
  {
   "cell_type": "code",
   "execution_count": 46,
   "metadata": {},
   "outputs": [],
   "source": [
    "mdf_copy=mdf.copy()"
   ]
  },
  {
   "cell_type": "code",
   "execution_count": 47,
   "metadata": {},
   "outputs": [],
   "source": [
    "mdf_copy=mdf_copy.drop(index=r,axis=0)"
   ]
  },
  {
   "cell_type": "code",
   "execution_count": 48,
   "metadata": {},
   "outputs": [
    {
     "data": {
      "text/html": [
       "<div>\n",
       "<style scoped>\n",
       "    .dataframe tbody tr th:only-of-type {\n",
       "        vertical-align: middle;\n",
       "    }\n",
       "\n",
       "    .dataframe tbody tr th {\n",
       "        vertical-align: top;\n",
       "    }\n",
       "\n",
       "    .dataframe thead th {\n",
       "        text-align: right;\n",
       "    }\n",
       "</style>\n",
       "<table border=\"1\" class=\"dataframe\">\n",
       "  <thead>\n",
       "    <tr style=\"text-align: right;\">\n",
       "      <th></th>\n",
       "      <th>Patient ID</th>\n",
       "      <th>Patient age quantile</th>\n",
       "      <th>sars_cov2</th>\n",
       "      <th>regular_ward</th>\n",
       "      <th>semi_icu</th>\n",
       "      <th>icu</th>\n",
       "      <th>Hematocrit</th>\n",
       "      <th>Hemoglobin</th>\n",
       "      <th>Platelets</th>\n",
       "      <th>Mean platelet volume</th>\n",
       "      <th>...</th>\n",
       "      <th>Adenovirus</th>\n",
       "      <th>Parainfluenza 4</th>\n",
       "      <th>Coronavirus229E</th>\n",
       "      <th>CoronavirusOC43</th>\n",
       "      <th>Inf A H1N1 2009</th>\n",
       "      <th>Bordetella pertussis</th>\n",
       "      <th>Metapneumovirus</th>\n",
       "      <th>Parainfluenza 2</th>\n",
       "      <th>Alanine transaminase</th>\n",
       "      <th>Aspartate transaminase</th>\n",
       "    </tr>\n",
       "  </thead>\n",
       "  <tbody>\n",
       "    <tr>\n",
       "      <th>1</th>\n",
       "      <td>126e9dd13932f68</td>\n",
       "      <td>17</td>\n",
       "      <td>0</td>\n",
       "      <td>0</td>\n",
       "      <td>0</td>\n",
       "      <td>0</td>\n",
       "      <td>0.236515</td>\n",
       "      <td>-0.022340</td>\n",
       "      <td>-0.517413</td>\n",
       "      <td>0.010677</td>\n",
       "      <td>...</td>\n",
       "      <td>0.0</td>\n",
       "      <td>0.0</td>\n",
       "      <td>0.0</td>\n",
       "      <td>0.0</td>\n",
       "      <td>0.0</td>\n",
       "      <td>0.0</td>\n",
       "      <td>0.0</td>\n",
       "      <td>0.0</td>\n",
       "      <td>NaN</td>\n",
       "      <td>NaN</td>\n",
       "    </tr>\n",
       "    <tr>\n",
       "      <th>8</th>\n",
       "      <td>8bb9d64f0215244</td>\n",
       "      <td>1</td>\n",
       "      <td>0</td>\n",
       "      <td>0</td>\n",
       "      <td>1</td>\n",
       "      <td>0</td>\n",
       "      <td>-1.571682</td>\n",
       "      <td>-0.774212</td>\n",
       "      <td>1.429667</td>\n",
       "      <td>-1.672222</td>\n",
       "      <td>...</td>\n",
       "      <td>0.0</td>\n",
       "      <td>0.0</td>\n",
       "      <td>0.0</td>\n",
       "      <td>0.0</td>\n",
       "      <td>0.0</td>\n",
       "      <td>0.0</td>\n",
       "      <td>0.0</td>\n",
       "      <td>0.0</td>\n",
       "      <td>-0.586821</td>\n",
       "      <td>-0.162200</td>\n",
       "    </tr>\n",
       "    <tr>\n",
       "      <th>15</th>\n",
       "      <td>6c9d3323975b082</td>\n",
       "      <td>9</td>\n",
       "      <td>0</td>\n",
       "      <td>0</td>\n",
       "      <td>0</td>\n",
       "      <td>0</td>\n",
       "      <td>-0.747693</td>\n",
       "      <td>-0.586244</td>\n",
       "      <td>-0.429480</td>\n",
       "      <td>-0.213711</td>\n",
       "      <td>...</td>\n",
       "      <td>0.0</td>\n",
       "      <td>0.0</td>\n",
       "      <td>0.0</td>\n",
       "      <td>0.0</td>\n",
       "      <td>1.0</td>\n",
       "      <td>0.0</td>\n",
       "      <td>0.0</td>\n",
       "      <td>0.0</td>\n",
       "      <td>-0.559257</td>\n",
       "      <td>-0.549287</td>\n",
       "    </tr>\n",
       "    <tr>\n",
       "      <th>30</th>\n",
       "      <td>ebdd7c67fcb21b4</td>\n",
       "      <td>9</td>\n",
       "      <td>0</td>\n",
       "      <td>1</td>\n",
       "      <td>0</td>\n",
       "      <td>0</td>\n",
       "      <td>-0.679027</td>\n",
       "      <td>-0.711556</td>\n",
       "      <td>0.952319</td>\n",
       "      <td>-0.886869</td>\n",
       "      <td>...</td>\n",
       "      <td>0.0</td>\n",
       "      <td>0.0</td>\n",
       "      <td>0.0</td>\n",
       "      <td>0.0</td>\n",
       "      <td>0.0</td>\n",
       "      <td>0.0</td>\n",
       "      <td>0.0</td>\n",
       "      <td>0.0</td>\n",
       "      <td>NaN</td>\n",
       "      <td>NaN</td>\n",
       "    </tr>\n",
       "    <tr>\n",
       "      <th>50</th>\n",
       "      <td>11e4956b770f080</td>\n",
       "      <td>17</td>\n",
       "      <td>0</td>\n",
       "      <td>0</td>\n",
       "      <td>0</td>\n",
       "      <td>0</td>\n",
       "      <td>1.014726</td>\n",
       "      <td>0.666876</td>\n",
       "      <td>-0.203368</td>\n",
       "      <td>0.459449</td>\n",
       "      <td>...</td>\n",
       "      <td>0.0</td>\n",
       "      <td>0.0</td>\n",
       "      <td>0.0</td>\n",
       "      <td>0.0</td>\n",
       "      <td>0.0</td>\n",
       "      <td>0.0</td>\n",
       "      <td>0.0</td>\n",
       "      <td>0.0</td>\n",
       "      <td>-0.366304</td>\n",
       "      <td>-0.510579</td>\n",
       "    </tr>\n",
       "  </tbody>\n",
       "</table>\n",
       "<p>5 rows × 47 columns</p>\n",
       "</div>"
      ],
      "text/plain": [
       "         Patient ID  Patient age quantile  sars_cov2  regular_ward  semi_icu  \\\n",
       "1   126e9dd13932f68                    17          0             0         0   \n",
       "8   8bb9d64f0215244                     1          0             0         1   \n",
       "15  6c9d3323975b082                     9          0             0         0   \n",
       "30  ebdd7c67fcb21b4                     9          0             1         0   \n",
       "50  11e4956b770f080                    17          0             0         0   \n",
       "\n",
       "    icu  Hematocrit  Hemoglobin  Platelets  Mean platelet volume   ...  \\\n",
       "1     0    0.236515   -0.022340  -0.517413               0.010677  ...   \n",
       "8     0   -1.571682   -0.774212   1.429667              -1.672222  ...   \n",
       "15    0   -0.747693   -0.586244  -0.429480              -0.213711  ...   \n",
       "30    0   -0.679027   -0.711556   0.952319              -0.886869  ...   \n",
       "50    0    1.014726    0.666876  -0.203368               0.459449  ...   \n",
       "\n",
       "    Adenovirus  Parainfluenza 4  Coronavirus229E  CoronavirusOC43  \\\n",
       "1          0.0              0.0              0.0              0.0   \n",
       "8          0.0              0.0              0.0              0.0   \n",
       "15         0.0              0.0              0.0              0.0   \n",
       "30         0.0              0.0              0.0              0.0   \n",
       "50         0.0              0.0              0.0              0.0   \n",
       "\n",
       "    Inf A H1N1 2009  Bordetella pertussis  Metapneumovirus  Parainfluenza 2  \\\n",
       "1               0.0                   0.0              0.0              0.0   \n",
       "8               0.0                   0.0              0.0              0.0   \n",
       "15              1.0                   0.0              0.0              0.0   \n",
       "30              0.0                   0.0              0.0              0.0   \n",
       "50              0.0                   0.0              0.0              0.0   \n",
       "\n",
       "    Alanine transaminase  Aspartate transaminase  \n",
       "1                    NaN                     NaN  \n",
       "8              -0.586821               -0.162200  \n",
       "15             -0.559257               -0.549287  \n",
       "30                   NaN                     NaN  \n",
       "50             -0.366304               -0.510579  \n",
       "\n",
       "[5 rows x 47 columns]"
      ]
     },
     "execution_count": 48,
     "metadata": {},
     "output_type": "execute_result"
    }
   ],
   "source": [
    "mdf_copy.head()"
   ]
  },
  {
   "cell_type": "code",
   "execution_count": 49,
   "metadata": {},
   "outputs": [
    {
     "data": {
      "text/plain": [
       "(254, 47)"
      ]
     },
     "execution_count": 49,
     "metadata": {},
     "output_type": "execute_result"
    }
   ],
   "source": [
    "mdf_copy.shape"
   ]
  },
  {
   "cell_type": "code",
   "execution_count": 50,
   "metadata": {},
   "outputs": [
    {
     "data": {
      "text/plain": [
       "<AxesSubplot:xlabel='sars_cov2', ylabel='count'>"
      ]
     },
     "execution_count": 50,
     "metadata": {},
     "output_type": "execute_result"
    },
    {
     "data": {
      "image/png": "[encoded data removed]",
      "text/plain": [
       "<Figure size 432x288 with 1 Axes>"
      ]
     },
     "metadata": {
      "needs_background": "light"
     },
     "output_type": "display_data"
    }
   ],
   "source": [
    "sns.countplot(mdf_copy['sars_cov2'])"
   ]
  },
  {
   "cell_type": "code",
   "execution_count": 51,
   "metadata": {},
   "outputs": [
    {
     "data": {
      "text/plain": [
       "0    212\n",
       "1     42\n",
       "Name: sars_cov2, dtype: int64"
      ]
     },
     "execution_count": 51,
     "metadata": {},
     "output_type": "execute_result"
    }
   ],
   "source": [
    "mdf_copy['sars_cov2'].value_counts()    # make 127 samples for each class"
   ]
  },
  {
   "cell_type": "code",
   "execution_count": 52,
   "metadata": {},
   "outputs": [],
   "source": [
    "mdf_copy.to_csv('icu_without_sampling.csv')   # For further use in Task1- Covid prediction and Task 2- Admission Prediction"
   ]
  }
 ],
 "metadata": {
  "colab": {
   "collapsed_sections": [],
   "name": "second-approach.ipynb",
   "provenance": []
  },
  "kernelspec": {
   "display_name": "Python 3",
   "language": "python",
   "name": "python3"
  },
  "language_info": {
   "codemirror_mode": {
    "name": "ipython",
    "version": 3
   },
   "file_extension": ".py",
   "mimetype": "text/x-python",
   "name": "python",
   "nbconvert_exporter": "python",
   "pygments_lexer": "ipython3",
   "version": "3.7.1"
  }
 },
 "nbformat": 4,
 "nbformat_minor": 1
}
